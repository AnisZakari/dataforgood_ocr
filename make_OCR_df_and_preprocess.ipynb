{
 "cells": [
  {
   "cell_type": "markdown",
   "metadata": {},
   "source": [
    "## About the input file\n",
    "\n",
    "- input file `predict_categories_dataset_ocrs.jsonl.gz` weights 335.8 MB  \n",
    "about the file : https://openfoodfacts.org/data/dataforgood2022/big/predict_categories_dataset_documentation.txt  download the file : https://openfoodfacts.org/data/dataforgood2022/big/predict_categories_dataset_ocrs.jsonl.gz\n",
    "\n",
    "- each line of the jsonl file contains OCRs associated barcodes.\n",
    "- each OCR contains text, potentially in different languages\n",
    "\n",
    "## What is done in this notebook\n",
    "1. Make the OCR Dataframe\n",
    "- A DataFrame is made from the jsonl.gz\n",
    "- All the OCRs (text) of a product are concatenated\n",
    "- For each product the different languages are detected.  \n",
    "\n",
    "\n",
    "Problem: in some cases the text is too long. If we were to use a transformer model like Bert to predict categories, there is a major limitation: the maximum number of words Bert can handle is 500.\n",
    "We need a way to extract only relevant words. Bellow, all the strategies used:\n",
    "\n",
    "2. Selection strategies / Summerization strategies:\n",
    "- main language strategy: only the main language is kept (i.e the lang in which there are many words and a good confidence score)\n",
    "- TFIDF Selection strategy : The approach here is to filter by language and to create a TFIDF matrix. For each product of a given language we keep only the N-top words according to their TFIDF score.\n",
    "- language intersection strategy:\n",
    "We get words that are found in all the different languages detected.\n",
    "- OCR intersection strategy:\n",
    "We get found in all the different OCRs (i.e all the different images).\n",
    "- Big words in the images strategy:\n",
    "We fetch the biggest words in the images. They are found by choosing words that have the biggest bounding polygon (anchor detection box) for the least text. In other words we choose the words that have the biggest detection-box-size / character-length ratio\n",
    "\n",
    "\n",
    "3. Final output: \n",
    "- When the original input text is not too long it remains as is, it is only cleaned with the `text_cleaner` there isn't any word selection at all.\n",
    "- If the original input text has more than 500 characters, we pick the text of the main language.\n",
    "- If the text of the main language is has still more than 500 characters we remove duplicated words.\n",
    "- If there is still more than 500 characters, we then take the tfidf selection.\n",
    "- Finally we add big words from images and \"intersection words\" from OCRs and languages.  \n",
    "\n"
   ]
  },
  {
   "cell_type": "markdown",
   "metadata": {},
   "source": [
    "### Make DataFrame and ocr_text_dict from jsonl"
   ]
  },
  {
   "cell_type": "code",
   "execution_count": 1,
   "metadata": {},
   "outputs": [],
   "source": [
    "import pandas as pd\n",
    "import numpy as np\n",
    "path_ocrs = os.path.abspath(\"INPUT_datasets/predict_categories_dataset_ocrs.jsonl.gz\")\n",
    "from utils.OCR_preprocessing import get_row_from_json_for_df, get_item_from_json_for_dict"
   ]
  },
  {
   "cell_type": "code",
   "execution_count": 3,
   "metadata": {},
   "outputs": [
    {
     "name": "stdout",
     "output_type": "stream",
     "text": [
      "(790383, 3)\n",
      "597242\n"
     ]
    }
   ],
   "source": [
    "\"\"\"approx time 15sec\n",
    "Iterating through the jsonl to extract elements for the dataframe nad the ocr dictionnary.\n",
    "\"\"\"\n",
    "from IPython.display import clear_output\n",
    "import gzip\n",
    "import json\n",
    "# make df from json\n",
    "rows = []\n",
    "ocr_text_dict = {}\n",
    "with gzip.open(path_ocrs) as f:\n",
    "    for i, line in enumerate(f):\n",
    "        #We take lines after 10 000 because those are potentially problematic.\n",
    "        if i > 10000: \n",
    "            json_line = json.loads(line)\n",
    "            if len(str(json_line['code'])) == 13:\n",
    "                #for df\n",
    "                row = get_row_from_json_for_df(json_line)\n",
    "                rows.append(row)\n",
    "                #for dict\n",
    "                ocr_text_dict = get_item_from_json_for_dict(json_line, ocr_text_dict)\n",
    "\n",
    "df = pd.DataFrame(rows, columns = [\"code\", \"texts\", \"keys\"]).drop_duplicates(subset = \"code\")\n",
    "df['code'] = df['code'].astype(str)\n",
    "df['texts'] = df['texts'].astype(str)\n",
    "print(df.shape)\n",
    "print(len(ocr_text_dict))\n",
    "\n",
    "del rows"
   ]
  },
  {
   "cell_type": "code",
   "execution_count": 4,
   "metadata": {},
   "outputs": [
    {
     "name": "stdout",
     "output_type": "stream",
     "text": [
      "after removing non normalized codes (790383, 3)\n",
      "after removing short texts (596550, 3)\n"
     ]
    }
   ],
   "source": [
    "is_real_ean = df['code'].str.len() == 13\n",
    "df = df[is_real_ean]\n",
    "print(\"after removing non normalized codes\", df.shape)\n",
    "### Keep only texts > 10 char\n",
    "len_sup_10 = (df[\"texts\"].str.len()> 10)\n",
    "df = df[len_sup_10]\n",
    "print(\"after removing short texts\", df.shape)\n"
   ]
  },
  {
   "cell_type": "markdown",
   "metadata": {},
   "source": [
    "### Extract main language from text"
   ]
  },
  {
   "cell_type": "markdown",
   "metadata": {},
   "source": [
    "for each text associated with a barcode, there are potentially many languages used to describe the product.\n",
    "The aim of this section is to detect the main language and to extract its text."
   ]
  },
  {
   "cell_type": "code",
   "execution_count": 2,
   "metadata": {},
   "outputs": [],
   "source": [
    "PRETRAINED_MODEL_PATH = 'fasttext_weights/lid.176.bin'\n",
    "from utils.OCR_language_extraction import get_lang_items_from_pd_textlist"
   ]
  },
  {
   "cell_type": "code",
   "execution_count": 5,
   "metadata": {},
   "outputs": [
    {
     "name": "stderr",
     "output_type": "stream",
     "text": [
      "Warning : `load_model` does not return WordVectorModel or SupervisedModel any more, but a `FastText` object which is very similar.\n",
      "100%|██████████| 596550/596550 [02:16<00:00, 4364.55it/s]\n"
     ]
    },
    {
     "data": {
      "text/html": [
       "<div>\n",
       "<style scoped>\n",
       "    .dataframe tbody tr th:only-of-type {\n",
       "        vertical-align: middle;\n",
       "    }\n",
       "\n",
       "    .dataframe tbody tr th {\n",
       "        vertical-align: top;\n",
       "    }\n",
       "\n",
       "    .dataframe thead th {\n",
       "        text-align: right;\n",
       "    }\n",
       "</style>\n",
       "<table border=\"1\" class=\"dataframe\">\n",
       "  <thead>\n",
       "    <tr style=\"text-align: right;\">\n",
       "      <th></th>\n",
       "      <th>code</th>\n",
       "      <th>texts</th>\n",
       "      <th>keys</th>\n",
       "      <th>text_main_lang</th>\n",
       "      <th>main_lang</th>\n",
       "    </tr>\n",
       "  </thead>\n",
       "  <tbody>\n",
       "    <tr>\n",
       "      <th>0</th>\n",
       "      <td>0021065000071</td>\n",
       "      <td>Nutrition Facts\\n24 servings per container\\nSe...</td>\n",
       "      <td>[1]</td>\n",
       "      <td>Nutrition Facts 24 servings per container Serv...</td>\n",
       "      <td>en</td>\n",
       "    </tr>\n",
       "    <tr>\n",
       "      <th>1</th>\n",
       "      <td>0021065000101</td>\n",
       "      <td>Includes 0g Added Sugars 0%\\nNutrition Facts\\n...</td>\n",
       "      <td>[2, 1]</td>\n",
       "      <td>Includes 0g Added Sugars 0% Nutrition Facts 71...</td>\n",
       "      <td>en</td>\n",
       "    </tr>\n",
       "  </tbody>\n",
       "</table>\n",
       "</div>"
      ],
      "text/plain": [
       "            code                                              texts    keys  \\\n",
       "0  0021065000071  Nutrition Facts\\n24 servings per container\\nSe...     [1]   \n",
       "1  0021065000101  Includes 0g Added Sugars 0%\\nNutrition Facts\\n...  [2, 1]   \n",
       "\n",
       "                                      text_main_lang main_lang  \n",
       "0  Nutrition Facts 24 servings per container Serv...        en  \n",
       "1  Includes 0g Added Sugars 0% Nutrition Facts 71...        en  "
      ]
     },
     "execution_count": 5,
     "metadata": {},
     "output_type": "execute_result"
    }
   ],
   "source": [
    "\"\"\"approx time 2min15\"\"\"\n",
    "text_list, lang_dict_list, main_lang_list = get_lang_items_from_pd_textlist(df['texts'],PRETRAINED_MODEL_PATH)\n",
    "main_lang_dict = {code: dic for (code,dic) in zip(df[\"code\"], lang_dict_list)}\n",
    "#assign new items to df\n",
    "df[\"text_main_lang\"] = text_list\n",
    "df[\"main_lang\"] = main_lang_list\n",
    "df.head(2)"
   ]
  },
  {
   "cell_type": "markdown",
   "metadata": {},
   "source": [
    "### Clean the text"
   ]
  },
  {
   "cell_type": "code",
   "execution_count": 6,
   "metadata": {},
   "outputs": [],
   "source": [
    "from utils.OCR_preprocessing import text_cleaner, parallel_calc"
   ]
  },
  {
   "cell_type": "code",
   "execution_count": 45,
   "metadata": {},
   "outputs": [],
   "source": [
    "\"\"\" Non parallelized version - approx time 2m\"\"\"\n",
    "#df[\"text_cleaned\"] = df[\"text_main_lang\"].apply(lambda x: text_cleaner(x))\n",
    "#df = df.set_index(\"code\", drop = True)\n",
    "\n",
    "\"\"\" Parallelized version - approx time 30sec\"\"\"\n",
    "# simple wrapper code around text_cleaner to parallelize the work\n",
    "df[\"text_main_lang_cleaned\"] = parallel_calc(text_cleaner, df[\"text_main_lang\"])"
   ]
  },
  {
   "cell_type": "code",
   "execution_count": 44,
   "metadata": {},
   "outputs": [],
   "source": [
    "\"\"\"approx time 1min\"\"\"\n",
    "df[\"original_text_cleaned\"]  = parallel_calc(text_cleaner, df[\"texts\"])"
   ]
  },
  {
   "cell_type": "code",
   "execution_count": 46,
   "metadata": {},
   "outputs": [
    {
     "data": {
      "text/html": [
       "<div>\n",
       "<style scoped>\n",
       "    .dataframe tbody tr th:only-of-type {\n",
       "        vertical-align: middle;\n",
       "    }\n",
       "\n",
       "    .dataframe tbody tr th {\n",
       "        vertical-align: top;\n",
       "    }\n",
       "\n",
       "    .dataframe thead th {\n",
       "        text-align: right;\n",
       "    }\n",
       "</style>\n",
       "<table border=\"1\" class=\"dataframe\">\n",
       "  <thead>\n",
       "    <tr style=\"text-align: right;\">\n",
       "      <th></th>\n",
       "      <th>code</th>\n",
       "      <th>texts</th>\n",
       "      <th>keys</th>\n",
       "      <th>text_main_lang</th>\n",
       "      <th>main_lang</th>\n",
       "      <th>text_cleaned</th>\n",
       "      <th>tfidf_selection</th>\n",
       "      <th>intersection_words_lang</th>\n",
       "      <th>intersection_words_ocr</th>\n",
       "      <th>big_words</th>\n",
       "      <th>word_selection</th>\n",
       "      <th>original_text_cleaned</th>\n",
       "      <th>text_main_lang_cleaned</th>\n",
       "    </tr>\n",
       "  </thead>\n",
       "  <tbody>\n",
       "    <tr>\n",
       "      <th>0</th>\n",
       "      <td>0021065000071</td>\n",
       "      <td>Nutrition Facts\\n24 servings per container\\nSe...</td>\n",
       "      <td>[1]</td>\n",
       "      <td>Nutrition Facts 24 servings per container Serv...</td>\n",
       "      <td>en</td>\n",
       "      <td>Nutrition Facts servings container Serving Siz...</td>\n",
       "      <td>Nutrition Facts servings container Serving Siz...</td>\n",
       "      <td></td>\n",
       "      <td></td>\n",
       "      <td>Facts Calories Nutrition servings container Se...</td>\n",
       "      <td>Facts Calories Nutrition servings container Se...</td>\n",
       "      <td>Nutrition Facts servings container Serving Siz...</td>\n",
       "      <td>Nutrition Facts servings container Serving Siz...</td>\n",
       "    </tr>\n",
       "    <tr>\n",
       "      <th>1</th>\n",
       "      <td>0021065000101</td>\n",
       "      <td>Includes 0g Added Sugars 0%\\nNutrition Facts\\n...</td>\n",
       "      <td>[2, 1]</td>\n",
       "      <td>Includes 0g Added Sugars 0% Nutrition Facts 71...</td>\n",
       "      <td>en</td>\n",
       "      <td>Includes Added Sugars Nutrition Facts servings...</td>\n",
       "      <td>Includes Added Sugars Nutrition Facts servings...</td>\n",
       "      <td></td>\n",
       "      <td></td>\n",
       "      <td>Steves Eds ORIGINAL Louisiana Hot Sauce</td>\n",
       "      <td>Steves Eds ORIGINAL Louisiana Hot Sauce. . . ...</td>\n",
       "      <td>Includes Added Sugars Nutrition Facts servings...</td>\n",
       "      <td>Includes Added Sugars Nutrition Facts servings...</td>\n",
       "    </tr>\n",
       "    <tr>\n",
       "      <th>2</th>\n",
       "      <td>0021078019091</td>\n",
       "      <td>SOURCE NATURALS\\nDIETARY SUPPLEMENT\\nTRUE WHEY...</td>\n",
       "      <td>[1]</td>\n",
       "      <td>SOURCE NATURALS DIETARY SUPPLEMENT TRUE WHEY T...</td>\n",
       "      <td>en</td>\n",
       "      <td>SOURCE NATURALS DIETARY SUPPLEMENT TRUE WHEY T...</td>\n",
       "      <td>SOURCE NATURALS DIETARY SUPPLEMENT TRUE WHEY T...</td>\n",
       "      <td></td>\n",
       "      <td></td>\n",
       "      <td>SOURCE NATURALS DIETARY SUPPLEMENT TRUE WHEY T...</td>\n",
       "      <td>SOURCE NATURALS DIETARY SUPPLEMENT TRUE WHEY T...</td>\n",
       "      <td>SOURCE NATURALS DIETARY SUPPLEMENT TRUE WHEY T...</td>\n",
       "      <td>SOURCE NATURALS DIETARY SUPPLEMENT TRUE WHEY T...</td>\n",
       "    </tr>\n",
       "  </tbody>\n",
       "</table>\n",
       "</div>"
      ],
      "text/plain": [
       "            code                                              texts    keys  \\\n",
       "0  0021065000071  Nutrition Facts\\n24 servings per container\\nSe...     [1]   \n",
       "1  0021065000101  Includes 0g Added Sugars 0%\\nNutrition Facts\\n...  [2, 1]   \n",
       "2  0021078019091  SOURCE NATURALS\\nDIETARY SUPPLEMENT\\nTRUE WHEY...     [1]   \n",
       "\n",
       "                                      text_main_lang main_lang  \\\n",
       "0  Nutrition Facts 24 servings per container Serv...        en   \n",
       "1  Includes 0g Added Sugars 0% Nutrition Facts 71...        en   \n",
       "2  SOURCE NATURALS DIETARY SUPPLEMENT TRUE WHEY T...        en   \n",
       "\n",
       "                                        text_cleaned  \\\n",
       "0  Nutrition Facts servings container Serving Siz...   \n",
       "1  Includes Added Sugars Nutrition Facts servings...   \n",
       "2  SOURCE NATURALS DIETARY SUPPLEMENT TRUE WHEY T...   \n",
       "\n",
       "                                     tfidf_selection intersection_words_lang  \\\n",
       "0  Nutrition Facts servings container Serving Siz...                           \n",
       "1  Includes Added Sugars Nutrition Facts servings...                           \n",
       "2  SOURCE NATURALS DIETARY SUPPLEMENT TRUE WHEY T...                           \n",
       "\n",
       "  intersection_words_ocr                                          big_words  \\\n",
       "0                         Facts Calories Nutrition servings container Se...   \n",
       "1                                   Steves Eds ORIGINAL Louisiana Hot Sauce   \n",
       "2                         SOURCE NATURALS DIETARY SUPPLEMENT TRUE WHEY T...   \n",
       "\n",
       "                                      word_selection  \\\n",
       "0  Facts Calories Nutrition servings container Se...   \n",
       "1   Steves Eds ORIGINAL Louisiana Hot Sauce. . . ...   \n",
       "2  SOURCE NATURALS DIETARY SUPPLEMENT TRUE WHEY T...   \n",
       "\n",
       "                               original_text_cleaned  \\\n",
       "0  Nutrition Facts servings container Serving Siz...   \n",
       "1  Includes Added Sugars Nutrition Facts servings...   \n",
       "2  SOURCE NATURALS DIETARY SUPPLEMENT TRUE WHEY T...   \n",
       "\n",
       "                              text_main_lang_cleaned  \n",
       "0  Nutrition Facts servings container Serving Siz...  \n",
       "1  Includes Added Sugars Nutrition Facts servings...  \n",
       "2  SOURCE NATURALS DIETARY SUPPLEMENT TRUE WHEY T...  "
      ]
     },
     "execution_count": 46,
     "metadata": {},
     "output_type": "execute_result"
    }
   ],
   "source": [
    "df.head(3)"
   ]
  },
  {
   "cell_type": "code",
   "execution_count": 10,
   "metadata": {},
   "outputs": [
    {
     "data": {
      "image/png": "[encoded data removed]",
      "text/plain": [
       "<Figure size 432x288 with 1 Axes>"
      ]
     },
     "metadata": {
      "needs_background": "light"
     },
     "output_type": "display_data"
    }
   ],
   "source": [
    "import matplotlib.pyplot as plt\n",
    "import seaborn as sns\n",
    "fig, ax = plt.subplots()\n",
    "word_count = df['text_main_lang_cleaned'].str.split().str.len()\n",
    "sns.histplot(word_count)\n",
    "plt.xlim([0,1000])\n",
    "plt.show()\n"
   ]
  },
  {
   "cell_type": "markdown",
   "metadata": {},
   "source": [
    "### TFIDF Trick"
   ]
  },
  {
   "cell_type": "code",
   "execution_count": 10,
   "metadata": {},
   "outputs": [],
   "source": [
    "from sklearn.feature_extraction.text import TfidfVectorizer\n",
    "from IPython.display import clear_output\n",
    "from utils.OCR_word_selection import get_freq_dict, get_best_tfidf_words_o\n",
    "from tqdm import tqdm\n",
    "\n",
    "df[\"tfidf_selection\"] = \"\"\n",
    "clear_output()\n",
    "\n",
    "def make_params():\n",
    "    \"\"\"makes parameters for get_best_tfidf_words_o\"\"\"\n",
    "    params = {\n",
    "    \"feature_names\": feature_names,\n",
    "    \"text_series\": sub_df_text_series,\n",
    "    \"tfidf_matrix\": tfidf_matrix,\n",
    "    \"freq_dict\": freq_dict,\n",
    "    \"N_words_to_pick\": 120\n",
    "    }\n",
    "    return params"
   ]
  },
  {
   "cell_type": "code",
   "execution_count": 11,
   "metadata": {},
   "outputs": [],
   "source": [
    "\"\"\"takes approx 3min30\"\"\"\n",
    "\n",
    "problematic_langs = []\n",
    "df = df.reset_index(drop = True)\n",
    "freq_dict = get_freq_dict(df[\"text_main_lang_cleaned\"])\n",
    "for lang in df[\"main_lang\"].unique():\n",
    "    print(\"lang:\", lang)\n",
    "    lang_filter = df[\"main_lang\"]== lang \n",
    "    sub_df_text_series = df.loc[lang_filter, \"text_main_lang_cleaned\"]\n",
    "    try:\n",
    "        vectorizer = TfidfVectorizer(max_df = 0.8)\n",
    "        tfidf_matrix = vectorizer.fit_transform(sub_df_text_series)\n",
    "        feature_names = vectorizer.get_feature_names_out()\n",
    "        #we use make_params to make the code more concise\n",
    "        text_selection_list = [get_best_tfidf_words_o(i, **make_params()) for i in tqdm(range(sub_df_text_series.shape[0]))]\n",
    "        df.loc[lang_filter, \"tfidf_selection\"] = text_selection_list\n",
    "    except:\n",
    "        problematic_langs.append(lang)\n",
    "    clear_output()\n"
   ]
  },
  {
   "cell_type": "code",
   "execution_count": 15,
   "metadata": {},
   "outputs": [
    {
     "data": {
      "text/plain": [
       "21"
      ]
     },
     "execution_count": 15,
     "metadata": {},
     "output_type": "execute_result"
    }
   ],
   "source": [
    "len(problematic_langs)"
   ]
  },
  {
   "cell_type": "code",
   "execution_count": 12,
   "metadata": {},
   "outputs": [
    {
     "data": {
      "text/plain": [
       "44749     120\n",
       "1860      120\n",
       "275947    120\n",
       "454712    120\n",
       "409517    120\n",
       "         ... \n",
       "296526      0\n",
       "234325      0\n",
       "78476       0\n",
       "592551      0\n",
       "142616      0\n",
       "Name: tfidf_selection, Length: 596550, dtype: int64"
      ]
     },
     "execution_count": 12,
     "metadata": {},
     "output_type": "execute_result"
    }
   ],
   "source": [
    "df[\"tfidf_selection\"].str.split().str.len().sort_values(ascending = False)"
   ]
  },
  {
   "cell_type": "markdown",
   "metadata": {},
   "source": [
    "### \"Intersection words trick\""
   ]
  },
  {
   "cell_type": "code",
   "execution_count": 13,
   "metadata": {},
   "outputs": [],
   "source": [
    "from utils.OCR_word_selection import get_intersect_words_lang, get_intersect_words_ocr"
   ]
  },
  {
   "cell_type": "code",
   "execution_count": 14,
   "metadata": {},
   "outputs": [
    {
     "name": "stdout",
     "output_type": "stream",
     "text": [
      "ratio: 0.14662308272567262\n"
     ]
    }
   ],
   "source": [
    "\"\"\"takes approx 1min30\"\"\"\n",
    "intersection_list_lang = parallel_calc(get_intersect_words_lang, lang_dict_list)\n",
    "print(\"ratio:\", len([item for item in intersection_list_lang if item != \"\"]) / len(intersection_list_lang))"
   ]
  },
  {
   "cell_type": "code",
   "execution_count": 15,
   "metadata": {},
   "outputs": [
    {
     "name": "stdout",
     "output_type": "stream",
     "text": [
      "ratio: 0.4644321515380102\n"
     ]
    }
   ],
   "source": [
    "\"\"\"takes approx 56sec\"\"\"\n",
    "sub_ocr_text_dict_list = [ocr_text_dict[code] for code in df[\"code\"]]\n",
    "intersection_list_ocr = parallel_calc(get_intersect_words_ocr, sub_ocr_text_dict_list)\n",
    "print(\"ratio:\", len([item for item in intersection_list_ocr if item != \"\"]) / len(intersection_list_ocr))"
   ]
  },
  {
   "cell_type": "code",
   "execution_count": 43,
   "metadata": {},
   "outputs": [],
   "source": [
    "df[\"intersection_words_lang\"] = intersection_list_lang\n",
    "df[\"intersection_words_ocr\"] = intersection_list_ocr"
   ]
  },
  {
   "cell_type": "code",
   "execution_count": 17,
   "metadata": {},
   "outputs": [
    {
     "data": {
      "text/plain": [
       "315604    30\n",
       "70086     30\n",
       "32122     30\n",
       "275024    30\n",
       "115303    30\n",
       "          ..\n",
       "261679     0\n",
       "261676     0\n",
       "261675     0\n",
       "261672     0\n",
       "596549     0\n",
       "Name: intersection_words_ocr, Length: 596550, dtype: int64"
      ]
     },
     "execution_count": 17,
     "metadata": {},
     "output_type": "execute_result"
    }
   ],
   "source": [
    "df[\"intersection_words_ocr\"].str.split().str.len().sort_values(ascending = False)"
   ]
  },
  {
   "cell_type": "markdown",
   "metadata": {},
   "source": [
    "### Fetch big words from images"
   ]
  },
  {
   "cell_type": "code",
   "execution_count": 18,
   "metadata": {},
   "outputs": [],
   "source": [
    "import gzip\n",
    "import json\n",
    "from utils.OCR_word_selection import get_big_words_from_txt_annotations"
   ]
  },
  {
   "cell_type": "code",
   "execution_count": 19,
   "metadata": {},
   "outputs": [],
   "source": [
    "big_words_dict = {}\n",
    "i_last = -1"
   ]
  },
  {
   "cell_type": "code",
   "execution_count": 73,
   "metadata": {},
   "outputs": [
    {
     "name": "stdout",
     "output_type": "stream",
     "text": [
      "0\n",
      "250000\n",
      "500000\n",
      "750000\n",
      "1000000\n"
     ]
    }
   ],
   "source": [
    "\"\"\"takes approx 7m30\"\"\"\n",
    "txt_annotations_path = \"INPUT_datasets/txtannotations.jsonl.gzip\"\n",
    "\n",
    "with gzip.open(txt_annotations_path) as f:\n",
    "    for i, line in enumerate(f):\n",
    "        if i > i_last:\n",
    "            i_last +=1\n",
    "            json_str = line.decode('utf-8')\n",
    "            txt_annotations = json.loads(json_str)\n",
    "            barcode = list(txt_annotations.keys())[0]\n",
    "            if str(barcode) in big_words_dict:\n",
    "                sentences_list = [get_big_words_from_txt_annotations(txt_annotations[barcode][key]) for key in sorted(txt_annotations[barcode].keys())]\n",
    "                if len(big_words_dict[str(barcode)]) <= 500:\n",
    "                    big_words_dict[str(barcode)] +=  \" \" + \" \".join(sentences_list)\n",
    "            else:\n",
    "                sentences_list = [get_big_words_from_txt_annotations(txt_annotations[barcode][key]) for key in sorted(txt_annotations[barcode].keys())]\n",
    "                big_words_dict[str(barcode)] = \" \".join(sentences_list)\n",
    "\n",
    "        if i %250000 == 0:\n",
    "            print(i)\n",
    "  "
   ]
  },
  {
   "cell_type": "code",
   "execution_count": 74,
   "metadata": {},
   "outputs": [
    {
     "data": {
      "text/plain": [
       "375415"
      ]
     },
     "execution_count": 74,
     "metadata": {},
     "output_type": "execute_result"
    }
   ],
   "source": [
    "len(big_words_dict)"
   ]
  },
  {
   "cell_type": "code",
   "execution_count": 20,
   "metadata": {},
   "outputs": [
    {
     "data": {
      "text/plain": [
       "375415"
      ]
     },
     "execution_count": 20,
     "metadata": {},
     "output_type": "execute_result"
    }
   ],
   "source": [
    "#\"\"\"\n",
    "import pickle\n",
    "path = \"barcodes_dict_with_new_ones.pkl\"\n",
    "with open(path, 'rb') as file:\n",
    "    big_words_dict = pickle.load(file)\n",
    "len(big_words_dict)\n",
    "#\"\"\""
   ]
  },
  {
   "cell_type": "code",
   "execution_count": 47,
   "metadata": {},
   "outputs": [],
   "source": [
    "df[\"big_words\"] = df[\"code\"].apply(lambda x: big_words_dict[str(x)] if str(x) in big_words_dict else '')"
   ]
  },
  {
   "cell_type": "code",
   "execution_count": 22,
   "metadata": {},
   "outputs": [
    {
     "data": {
      "text/plain": [
       "142417    140\n",
       "141865    112\n",
       "85698     110\n",
       "157713    110\n",
       "190957    110\n",
       "         ... \n",
       "448646      0\n",
       "448647      0\n",
       "448648      0\n",
       "448650      0\n",
       "596549      0\n",
       "Name: big_words, Length: 596550, dtype: int64"
      ]
     },
     "execution_count": 22,
     "metadata": {},
     "output_type": "execute_result"
    }
   ],
   "source": [
    "df[\"big_words\"].str.split().str.len().sort_values(ascending = False)"
   ]
  },
  {
   "cell_type": "markdown",
   "metadata": {},
   "source": [
    "### Make output df"
   ]
  },
  {
   "cell_type": "code",
   "execution_count": 23,
   "metadata": {},
   "outputs": [],
   "source": [
    "from utils.OCR_preprocessing import remove_duplicates"
   ]
  },
  {
   "cell_type": "code",
   "execution_count": 48,
   "metadata": {},
   "outputs": [],
   "source": [
    "\"\"\"takes approx 15 sec\"\"\"\n",
    "\n",
    "df[\"word_selection\"] = (\n",
    "    df[\"big_words\"].astype(str) + \". \" +\n",
    "    df[\"intersection_words_ocr\"].fillna(\"\").astype(str) + \". \" +\n",
    "    df[\"intersection_words_lang\"].fillna(\"\").astype(str) + \". \" +\n",
    "    df.apply(\n",
    "        lambda x: x[\"original_text_cleaned\"] if len(x[\"original_text_cleaned\"]) < 500 \n",
    "        else x[\"text_main_lang_cleaned\"]if len(x[\"text_main_lang_cleaned\"]) < 500\n",
    "        else (remove_duplicates(x[\"text_main_lang_cleaned\"]) if len(remove_duplicates(x[\"text_main_lang_cleaned\"]).split()) < 80\n",
    "        else x[\"tfidf_selection\"]) ,axis = 1).astype(str)\n",
    "    )\n"
   ]
  },
  {
   "cell_type": "code",
   "execution_count": 50,
   "metadata": {},
   "outputs": [
    {
     "data": {
      "text/plain": [
       "(0, 13)"
      ]
     },
     "execution_count": 50,
     "metadata": {},
     "output_type": "execute_result"
    }
   ],
   "source": [
    "df[df[\"word_selection\"] == \"\"].shape"
   ]
  },
  {
   "cell_type": "code",
   "execution_count": 30,
   "metadata": {},
   "outputs": [
    {
     "data": {
      "image/png": "[encoded data removed]",
      "text/plain": [
       "<Figure size 432x288 with 1 Axes>"
      ]
     },
     "metadata": {
      "needs_background": "light"
     },
     "output_type": "display_data"
    }
   ],
   "source": [
    "import matplotlib.pyplot as plt\n",
    "import seaborn as sns\n",
    "fig, ax = plt.subplots()\n",
    "word_count = df['word_selection'].str.split().str.len()\n",
    "sns.histplot(word_count)\n",
    "plt.xlim([0,1000])\n",
    "plt.show()\n"
   ]
  },
  {
   "cell_type": "code",
   "execution_count": 26,
   "metadata": {},
   "outputs": [
    {
     "data": {
      "text/plain": [
       "169446    240\n",
       "22709     240\n",
       "169470    235\n",
       "41484     230\n",
       "169108    230\n",
       "         ... \n",
       "564292      3\n",
       "519901      3\n",
       "216463      3\n",
       "322997      3\n",
       "446085      3\n",
       "Name: word_selection, Length: 596550, dtype: int64"
      ]
     },
     "execution_count": 26,
     "metadata": {},
     "output_type": "execute_result"
    }
   ],
   "source": [
    "df['word_selection'].str.split().str.len().sort_values(ascending = False)"
   ]
  },
  {
   "cell_type": "code",
   "execution_count": 55,
   "metadata": {},
   "outputs": [],
   "source": [
    "#df.to_pickle(\"OUTPUT_OCR_dataset/dataset.pkl\")"
   ]
  },
  {
   "cell_type": "code",
   "execution_count": 58,
   "metadata": {},
   "outputs": [
    {
     "name": "stdout",
     "output_type": "stream",
     "text": [
      "noise or empty lines: 194\n",
      "(596356, 12)\n"
     ]
    }
   ],
   "source": [
    "empty_or_noise = df[\"word_selection\"].str.len() < 10\n",
    "print(\"noise or empty lines:\", empty_or_noise.sum())\n",
    "df = df[~empty_or_noise]\n",
    "print(df.shape)\n",
    "\n"
   ]
  },
  {
   "cell_type": "markdown",
   "metadata": {},
   "source": [
    "### Check Results"
   ]
  },
  {
   "cell_type": "code",
   "execution_count": 42,
   "metadata": {},
   "outputs": [],
   "source": [
    "import pandas as pd\n",
    "df = pd.read_pickle(\"OUTPUT_OCR_dataset/dataset.pkl\")\n",
    "df[\"code\"] = df[\"code\"].astype(str)"
   ]
  },
  {
   "cell_type": "code",
   "execution_count": 59,
   "metadata": {},
   "outputs": [
    {
     "name": "stdout",
     "output_type": "stream",
     "text": [
      "noise or empty lines: 0\n",
      "(596356, 12)\n"
     ]
    }
   ],
   "source": [
    "empty_or_noise = df[\"word_selection\"].str.len() < 10\n",
    "print(\"noise or empty lines:\", empty_or_noise.sum())\n",
    "df = df[~empty_or_noise]\n",
    "print(df.shape)\n"
   ]
  },
  {
   "cell_type": "code",
   "execution_count": 112,
   "metadata": {},
   "outputs": [],
   "source": [
    "from  utils.OCR_word_selection import show_images_from_barcode, get_big_words_from_image_clean, make_link_from_barcode\n",
    "import re"
   ]
  },
  {
   "cell_type": "code",
   "execution_count": 61,
   "metadata": {},
   "outputs": [
    {
     "data": {
      "text/plain": [
       "Index(['code', 'texts', 'keys', 'text_main_lang', 'main_lang',\n",
       "       'tfidf_selection', 'intersection_words_lang', 'intersection_words_ocr',\n",
       "       'big_words', 'word_selection', 'original_text_cleaned',\n",
       "       'text_main_lang_cleaned'],\n",
       "      dtype='object')"
      ]
     },
     "execution_count": 61,
     "metadata": {},
     "output_type": "execute_result"
    }
   ],
   "source": [
    "df.columns"
   ]
  },
  {
   "cell_type": "code",
   "execution_count": 107,
   "metadata": {},
   "outputs": [
    {
     "data": {
      "text/plain": [
       "460335    47020\n",
       "168364    39544\n",
       "198768    38614\n",
       "78551     29492\n",
       "78567     29274\n",
       "168790    27206\n",
       "296363    26640\n",
       "168168    25232\n",
       "110304    24441\n",
       "265744    24347\n",
       "24678     23603\n",
       "27640     23043\n",
       "169690    22867\n",
       "199640    22751\n",
       "169143    22498\n",
       "154187    21732\n",
       "168488    21375\n",
       "169604    20928\n",
       "356032    20345\n",
       "382309    20118\n",
       "78531     19873\n",
       "167776    19585\n",
       "154097    19555\n",
       "216653    19488\n",
       "24609     19448\n",
       "24584     19316\n",
       "168063    18999\n",
       "374113    18898\n",
       "61762     18684\n",
       "221622    18195\n",
       "Name: texts, dtype: int64"
      ]
     },
     "execution_count": 107,
     "metadata": {},
     "output_type": "execute_result"
    }
   ],
   "source": [
    "df.reset_index(drop=True).loc[(df[\"main_lang\"] == \"fr\").reset_index(drop=True), \"texts\"].str.len().sort_values(ascending = False).head(30)"
   ]
  },
  {
   "cell_type": "code",
   "execution_count": 109,
   "metadata": {},
   "outputs": [
    {
     "name": "stdout",
     "output_type": "stream",
     "text": [
      "78531\n",
      "DD at enurAcido connosnsumidor ca DTo Plus SADAVELHAulano di Meer OM HI SSe PBarras βρμη εύa gerst στάριολκής arôme σ Fitness CHOCOLATE Tradizionale Coal Nestle pr CHOCOLAT CHOCOLADE CIOCCOLATO kca invertido extracto malta cebada hu Casca carbonato Calico Puede contener à en blé au Barre mais malt avoine acide pantothénique Nestle itness CHOCOLATE Energy CHOCOLAT CHOCOLADE CIOCCOLATO EOKOAATA Fitness OCOLATE Nestle CHOCOLADE kc CIOCCOLATO ZOKOAATA LAT Energy Fitness Nestle Energy CHOCOLATE CHOCOLAT CHOCOLADE CIOCCOLATO EOKOAATA. . . complet Je itanines aun danoir alimentaton varie BREAKFAST CEREAL BAR Barre Céréales Rarre nutritive cadre un PETIT DÉJEUNER Les vitamines contribuent métabolisme normal réduire important avoir variée équilibrée Volkorengranen ingrediënt Cereales Integrales Fibra artificiel arôme Zonder kunstmatige Lípidos quais açúcares µg portions doivent adaptées âge RWE Referentie waarde Valores Société Nestlé PAP en GENIET extrato malte Service consommateurs Belgilux NV Birminghamstraat Bruxelles Plus gratuit poudre cacao mélasse naturel antioxydant extrait riche tocophérols fer mais farine riz émulsifiants lécithine tournesol Acide sucre pâte soja carbonate calcium semoule orge malté sirop inverti blé humectant glycérol pépites chocolat polyglycérol vanille avoine complète malt lactosérum polyricinoléate AU aromatisée enrichie Fitness Ten fim Ingrediente Integrais rist Noisel talk vítamines Referêndia\n",
      "192\n",
      "3387390320008\n"
     ]
    }
   ],
   "source": [
    "#i = np.random.choice(range(df.shape[0]))\n",
    "#i = 10157 # maitre coq volaille 0215703025452\n",
    "#i = 20865 #knorr 3011360020178\n",
    "#i = 363851 #bolognese sauce - 5000354914829\n",
    "#i = 65210 # andouilettes - 3278910707327\n",
    "#i = 27073 # bonduelle conconmbre fromage blanc  -3083681008616\n",
    "#i = 151249 # macaroni everyday - 5400141165043\n",
    "#i = 168364\n",
    "i = 78531\n",
    "barcode = df[\"code\"].iloc[i]\n",
    "print(i)\n",
    "print(df[\"word_selection\"].iloc[i])\n",
    "print(len(df[\"word_selection\"].iloc[i].split()))\n",
    "print(barcode)\n",
    "show_images_from_barcode(barcode, df)"
   ]
  },
  {
   "cell_type": "markdown",
   "metadata": {},
   "source": []
  },
  {
   "cell_type": "code",
   "execution_count": 61,
   "metadata": {},
   "outputs": [
    {
     "data": {
      "text/plain": [
       "'Bonduelle Concombre au Fromage blanc Ciboulette keal Valeurs nutritionnelles SALADE CONCOMBRES AU FROMAGE BLANC CIBOULETTE Energie Matières'"
      ]
     },
     "execution_count": 61,
     "metadata": {},
     "output_type": "execute_result"
    }
   ],
   "source": [
    "big_words_dict[barcode]"
   ]
  },
  {
   "cell_type": "code",
   "execution_count": 111,
   "metadata": {},
   "outputs": [
    {
     "data": {
      "text/plain": [
       "2861"
      ]
     },
     "execution_count": 111,
     "metadata": {},
     "output_type": "execute_result"
    }
   ],
   "source": [
    "len(input_text.split())"
   ]
  },
  {
   "cell_type": "code",
   "execution_count": 110,
   "metadata": {},
   "outputs": [
    {
     "name": "stdout",
     "output_type": "stream",
     "text": [
      "3387390320008\n",
      "Nestle Whole Grain No.1 Ingredient' Source of Fibre? No Artificial Colours or Flavours³ Chocolate Fitness NUTRI-SCORE ABCDE ABCDENUTRITIOUS ENERGY* BREAKFAST CEREAL BAR\" \"Barre de céréales pour le petit-déjeuner / Graanreep voor het ontbijt / Barra de Cereais de Pequeno-Almoço *B-vitamins contribute to normal energy-yielding metabolism as part of a varied and balanced diet and a healthy lifestyle x6 1  Chocelatê स FitneSS Whole Grain No.1 Ingredient' complet Je itanines 8L,83,85 et86 antibuent aun lestimporant danoir ne alimentaton varie et equibret n mode e iesin. Nestlē No Artificial Colours or Flavours3 Mma enerelerant metablismeende vemindering an vempeidheiden moeheit. Hetis belangik om een Source of Fibre? ontituen pra onomal meabolismo produtor de Eerje. Fimprtantesegui um aimentaĝ varada equibrade eum entlo de vida atn. 4 Chocolate Sans alorant artficel n arime atficel Zonder Fitness Sem corantes nem aronmas artiGas. Choclat Cholade Chocolate epu 141 g 16x 235 gC Cereal Partners Wordwide Westle and General Hills X6 BREAKFAST CEREAL BAR\" \"Barre de céréales pour le petit-déjeuner / Graanreep voor het ontbijt / Barra de Cereais de Pequeno-Almoço *B-vitamins contribute to normal energy-yielding metabolism as part of a varied and balanced diet and a healthy lifestyle ABCDENUTRITIOUS ENERGY* 44077699 NUTRI-SCORE 器 A consommer de préférence avant fin:/Ten minste houdbaar tot einde:/ Consumir de preferênda antes do fim de: conserver dans un endroit frais et sec./Op een koele en droge plaats bewaren./ Conservar em local fresco e seco.  Whole Grain No.1 Ingredient' Source of Fibre? No Artificial Colours or Flavours Chocolate 4 Fitness NUTRI-SCORE ABICIDENUTRITIOUS ENERGY BREAKFAST CEREAL BAR\" Rarre de céréales pour le petit-déjeuner/Graanreep voor het ontbijt nmins contribute to normal energy-yielding metabolism as part  Chocolate Fitness 4 *® Énergie nutritive:Dans le cadre d'un petit-déjeuner complet, les vitamines B2, B3, B5 et B6 contribuent à un métabolisme énergétique normal et à réduire la fatigue. Il est important d'avoir une alimentation variée et équilibrée et un mode de vie sain. *® Nutritionele energie : in het kader van een volledig ontbijt dragen vitaminen B2, B3, B5 en B6 bij tot een normaal energieleverend metabolisme en de vermindering van vermoeidheid en moeheid. Het is belangrijk om een gevarieerde en evenwichtige voeding te hebben evenals een gezonde levensstijl. *O Energia nutritiva. As vitaminas B2, B3, B5 e B6 contribuem para o normal metabolismo produtor de energia. É importante seguir uma alimentação variada e equilibrada e um estilo de vida ativo. ' Céréales complètes 1 ingrédient/Volkorengranen 1st* ingrediënt/Cereales Integrales Ingrediente nº1 / Cereais Integrais Ingrediente N°1 ? Source de fibres/Bron van vezels / Fonte de Fibra Sans colorant artificiel, ni arôme artificiel/Zonder kunstmatige kleurstoffen noch kunstmatige aroma's/ Sem corantes nem aromas artificiais. Nestle. Whole Grain No.1 Ingredient Nestlē V Source of Fibre? No Artificial Colours or Flavours Nestlē. Good Food, Good Life INFORMATIONS NUTRITIONNELLES/| Pour/ Pour/ Per/Por 100g 23,5 g (%**) Per/Por NUTRITIONELE INFORMATIE / INFORMAÇÃO NUTRICIONAL 382 kJ (5%) 386 kcal 91 kcal (5%) 8,3g1,9g(3%). 1624 kJ Énergie / Energie /Energia Matières grasses / Vetten/Lípidos dont acides gras saturés/ - waarvan verzadigde vetzuren / - dos quais saturados Glucides/Koolhydraten /Hidratos de carbono 69,2g 16,3 g(6%) dont sucres/-waarvan suikers/ - dos quais açúcares Fibres alimentaires /Vezels / Fibra Protéines /Eiwitten/Proteínas Sel /Zout/Sal Chocolate 4 Fitness 3 3,3g 0,8g(49%) Chocolat/Chocolade/Chocolate cp 24,8g 5,89(6%) 7,0g 1,6g (-) Cereal Partners Worldwide Nestlé and General Mills 6,5 g 1,5g(3%) 0,62 g| 0,14g(2%) 141 g (6 x 23,5 gE) VITAMINES ET MINÉRAUX / VITAMINEN EN MINERALEN / VITAMINAS E MINERAIS B2 - Riboflavine/Riboflavina B3 - Niacine/Niacina B6-Vitamine B6/Vitamina B6 B9- Acide folique/ Foliumzuur/ Ácido Fólico B5- Acide pantothénique/ Pantotheenzuur/Acido pantoténico Calcium/Cálcio/Caldio Fer/ljzer/Ferro Pour/Per/Por | Pour/Per/Por 100 g (%** 23,5 g(%*) 1,6 mg (114%) 0,38 mg (27%) 16 mg 100%) 3,7 mg (23%) 1,4mg (100%)| 0,32 mg (23%). 187 ug (94%)| 43,9 µg (22%) 5,9 mg (98%) 1,4mg (23%) 769 mg (96%) 181 mg (23%) 13 mg (93%)| 3,0 mg (219%) **% de l'apport de référence pour un adulte-type (8400 kJ/2000 ka). Contient 6 portions de 23,5 g. Les portions doivent être adaptées à l'âge de l'enfant./ **% van de referentie-inname van een gemiddelde volwassene (8400 kJ/2000 kal). Bevat 6 porties van 23,5 g. Porties dienen te worden aangepast aan kinderen volgens hun leeftijd. /** Dose de Referência para um adulto médio (8400 kl /2000 ka). Contém 6 porções de 23,5 g. NUTRI-SCORE ***VNR: Valeurs nutritionnelles de référence./**RWE: Referentie-waarde 44077699 etikettering. /***6VRN: Valores de Referência do Nutriente. ABCDENUTRITIOUS ENERGY* 新 NUTRITIONAL COMPASS ® ® Reg. Trademark of Société des Produits Nestlé S.A. BREAKFAST CEREAL BAR\" PAP \"Barre de céréales pour le petit-déjeuner / Graanreep voor het ontbijt / Barra de Cereais de Pequeno-Almoço *B-vitamins contribute to normal energy-yielding metabolism as part of a varied and balanced diet and a healthy lifestyle | x6 1 AU PETIT-DÉJEUNER, SAVOUREZ VOTRE BARRE DE CÉRÉALES EN L'ACCOMPAGNANT DE : GENIET BIJ HET ONTBIJT VAN UW GRAANREEP EN VOEG HET VOLGENDE TOE: AO PEQUENO-ALMOÇO INCLUA TAMBÉM FRUTA, LÁCTÉOS E ÁGUA: Chocolate Fitness fólico, riboflavina. Pode conter frutos de casca rija. faleconnosco@pt.nestle.com, www.nestle.pt D Fale connosco - NESTLÉ Serviço ao Consumidor - Tel. 800 203 591 08:30-20:30 (Seg.-Sáb, exceto feriados) emulsionante (lecitina de girassol), cacau em pó, melaço, ferro, niacina, ácido pantoténico, vitamina B6, ácido aroma natural, antioxidante (extrato rico em tocoferóis), Nestlé Portugal, Unipessoal, Lda - Rua Alexandre Herculano, 8 2799-554 LINDA-A-VELHA (0,3%), farinha de arroz (0,2%), cacau magro em pó, emulsionante (lecitina de soja), óleo de girassol, chocolate preto (3%) (açúcar, pasta de cacau, (cevada, cevada malteada), sal, sêmola de milho carbonato de cálcio, extrato de malte de cevada Service Consommateurs/Consumentendienst: Tel. 02/529 55 25 www.nestle.be ® SA Nestlé Belgilux NV, Rue de Birminghamstraat 221, BE-1070 Bruxelles /Brussel, Service consommateurs Nestlé France, 34-40 Rue Guynemer-92130 Issy-les-Moulineaux FR Plus d'informations?0806 800 701 (service gratuit + prix appel) www.nestle-cereals.fr extrato de malte de cevada, humidificante (glicerol), açúcar invertido, farinha de trigo integral (4,9%), polirricinoleato de poliglicerol), aroma natural], xarope de glucose, flocos de aveia integral (8,6%), açúcar, xarope de [açúcar, pasta de cacau, manteiga de cacau, leite em pó magro, soro de leite em pó, emulsionantes (lecitina de soja e 141 g (6 x 23,5 gE) D Barras de cereais com chocolate. Ingredientes: Trigo integral (20,6%), arroz (15,19%), chocolate (14%) B2. Bevat mogelijk noten. AVEIA INTEGRAL VOLKORENHAVER AVOINE COMPLÈTE cacaopoeder, cacaopoeder, melasse, natuurlijk aroma, antioxidant: tocoferolrijk extract; ijzer, vitamine B3, B5, B6, B9 en maïsgries, rijstmeel 0,2%, emulgatoren: zonnebloemlecithine, mono-en diglyceriden van vetzuren; mager chocoladestukjes 3% (suiker, cacaomassa, emulgator: sojalecithine), zonnebloemolie, calciumcarbónaat, zout, (gerst, gerstemout), suiker, invertsuikerstroop, volkorentarwemeel 4,9%, bevochtigingsmiddel: glycerol; pure polyglycerolpolyricinoleaat; natuurlijk vanillearoma), glucosestroop, volkorenhavervlokken 8,6%, gerstemoutextract cacaomassa, cacaoboter,´ magere melkpoeder, weipoeder (melk), emulgatoren: sojalecithine, vitaminen, calcium en ijzer. Ingredienten: volkorentarwe 20,6%, rijst 15,1%, chocolade 14% (suiker, BE Graanreep met volkorentarwe, rijst, volkorenhaver en chocolade, met aroma's, verrijkt met 5 B9 et B2. Peut contenir des fruits à coque. TRIGO INTEGRAL poudre, cacao en poudre, mélasse, arôme naturel, antioxydant : extrait riche en tocophérols ; fer, vitamines B3, B5, B6, mais, farine de riz 0,2%, émulsifiants : lécithine de tournesol, mono- et diglycérides d'acide gras ; cacao maigre en noir 3% (sucre, pâte de cacao, émulsifiant: lécithine de soja), huile de tournesol, carbonate de calcium, sel, semoule de (orge, orge malté), sucre, sirop de sucre inverti, farine de blé complet 4,9%, humectant : glycérol ; pépites de chocolat polyglycérol ; arôme naturel de vanille), sirop de glucose, flocons d'avoine complète 8,6%, extrait de malt d'orge de cacao, lait écrémé en poudre, lactosérum en poudre, émulsifiants : lécithine de soja, polyricinoléate de vitamines, calcium et fer. Ingrédients : blé complet 20,6%, riz 15,1%, chocolat 14% (sucre, pâte de cacao, beurre FR Barre de céréales au blé complet, riz, avoine complète, et au chocolat, aromatisée et enrichie en 5 VOLKORENTARWE BLÉ COMPLET Fitness Chocolate Chocolate Fitness 3 387390 320008 126x47.5x152 Carton: 44077699 À consommer de préférence avant fin :/Ten minste houdbaar tot einde:/ Çonsumir de preferência antes do fim de: A conserver dans un endroit frais et sec. / Op een koele en droge plaats bewaren./ Conservar em local fresco e seco. ILNI: V211ES18 O Good to talk  *® Énergie nutritive:Dans le cadre d'un petit-déjeuner complet, les vitamines B2, B3, B5 et B6 contribuent à un métabolisme énergétique normal et à réduire la fatigue. Il est important d'avoir une alimentation variée et équilibrée et un mode de vie sain. *® Nutritionele energie : in het kader van een volledig ontbijt dragen vitaminen B2, B3, B5 en B6 bij tot een normaal energieleverend metabolisme en de vermindering van vermoeidheid en moeheid. Het is belangrijk om een gevarieerde en evenwichtige voeding te hebben evenals een gezonde levensstijl. *O Energia nutritiva. As vitaminas B2, B3, B5e B6 contribuem para o normal metabolismo produtor de energia. E importante seguir uma alimentação variada e equilibrada e um estilo de vida ativo. 1 Céréales complètes 1“ ingrédient/Volkorengranen 1* ingrediënt/Cereales Integrales Ingrediente n°1/ Cereais Integrais Ingrediente N°1 2 Source de fibres /Bron van vezels / Fonte de Fibra 3 Sans colorant artificiel, ni arôme artificiel/Zonder kunstmatige kleurstoffen noch kunstmatige aroma's / Sem corantes nem aromas artificiais. * Chocolat/Chocolade/Chocolate cpi Cereal Partners Worldwide Nestlé and General Mills 141 g (6 x 23,5 ge) 44077699 PAP 3 387390\"320008 consommer de préférence avant fin :/Ten minste houdbaar tot einde:/ Çonsumir de preferência antes do fim de: A conserver dans un endroit frais et sec. /Op een koele en droge plaats bewaren./ Conservar em local fresco e seco.  GD Barre de céréales au blé complet et au chocolat, enrichie en 5 vitamines, calcium et fer. met de blé complet 22%, senouedena s laise de chocolat rist poudre, beure de cacao, iniisifiants legittime soja, E176, E17i maight on poudrt attirydant ut it tight tocopherols, extr III i Plus d'informations? 0 810 63 37 47 www.croquonslavie.fr local depus un poste fue Service Consommateurs Neste France BP 900 Noisel mu6 Mame la Valee Cader2 (+32) 02 529 55 25 www.nestle  Chocolate Fitness FR Barre de céréales au blé complet, riz, avoine complète, et au chocolat, aromatisée et enrichie en 5 vitamines, calcium et fer. Ingrédients : blé complet 20,6%, riz 15,19%, chocolat 14% (sucre, pâte de cacao, beurre de cacao, lait écrémé en poudre, lactosérum en poudre, émulsifiants : lécithine de soja, polyricinoléate de polyglycérol ; arôme naturel de vanille), sirop de glucose, flocons d'avoine complète 8,6%, extrait de malt d'orge (orge, orge malté), sucre, sirop de sucre inverti, farine de blé complet 4,9%, humectant : glycérol; pépites de chocolat noir 3% (sucre, pâte de cacao, émulsifiant : lécithine de soja), huile de tournesol, carbonate de calcium, sel, semoule de mais, farine de riz 0,2%, émulsifiants : lécithine de tournesol, mono- et diglycérides d'acide gras ; cacao maigre en poudre, cacao en poudre, mélasse, arôme naturel, antioxydant : extrait riche en tocophérols ; fer, vitamines B3, B5, B6, B9 et B2. Peut contenir des fruits à coque. BLÉ COMPLET VOLKORENTARWE TRIGO INTEGRAL E Graanreep met volkorentarwe, rijst, volkorenhaver en chocolade, met aroma's, verrijkt met 5 vitaminen, calcium en ijzer. Ingredienten: volkorentarwe 20,6%, rijst 15,1%, chocolade 14% (suiker, cacaomassa, cacaoboter, magere melkpoeder, weipoeder (melk), emulgatoren: sojalecithine, polyglycerolpolyricinoleaat; natuurlijk vanillearoma), glucosestroop, volkorenhavervlokken 8,6%, gerstemoutextract (gerst, gerstemout), suiker, invertsuikerstroop, volkorentarwemeel 4,9%, bevochtigingsmiddel: glycerol; pure chocoladestukjes 3% (suiker, cacaomassa, emulgator: sojalecithine), zonnebloemolie, calciumcarbónaat, zout, maisgries, rijstmeel 0,2%, emulgatoren: zonnebloemlecithine, mono-en diglyceriden van vetzuren; mager cacaopoeder, cacaopoeder, melasse, natuurlijk aroma, antioxidant: tocoferolrijk extract; ijzer, vitamine B3, B5, B6, B9 en B2. Bevat mogelijk noten. AVOINE COMPLÈTE VOLKORENHAVER AVEIA INTEGRAL O Barras de cereais com chocolate. Ingredientes: Trigo integral (20,6%), arroz (15,1%), chocolate (14%) [açúcar, pasta de cacau, manteiga de cacau, leite em pó magro, soro de leite em pó, emulsionantes (lecitina de soja e poliricinoleato de poliglicerol), aroma natural), xarope de glucose, flocCos de aveía integral (8,6%), açúcar, xarope de açúcar invertido, farinha de trigo integral (4,9%), extrato de malte de cevada, humidificante (glicerol), chocolate preto (3%) (açúcar, pasta de cacau, emulsionante (lecitina de soja), óleo de girassol, carbonato de cálcio, extrato de malte de cevada (cevada, cevada malteada), sal, sêmola de milho (0,3%), farinha de arroz (0,2%), cacau magro em pó, PT Fale connosco - NESTLÉ Serviço ao Consumidor- Tel. 800 203 591 08:30-20:30 (Seg.-Sáb, exceto feriados) emulsionante (lecitina de girassol), cacau em pó, melaço, aroma natural, antioxidante (extrato rico em tocoferóís), ferro, niacina, ácido pantoténico, vitamina B6, ácido fólico, riboflavina. Pode conter frutos de casca rija. 141 g (6 x 23,5 gE) ® Plus d'informations?0 806 800 701 (service gratuit + prix appel) www.nestle-cereals.fr Service consommateurs Nestlé France, 34-40 Rue Guynemer-92130 Issy-les-Moulineaux SA Nestlé Belgilux NV, Rue de Birminghamstraat 221, BE-1070 Bruxelles /Brussel, Service Consommateurs/Consumentendienst: Tel. 02/529 55 25 www.nestle.be faleconnosco@pt.nestle.com, www.nestle.pt Nestlé Portugal, Unipessoal, Lda - Rua Alexandre Herculano, 8 2799-554 LINDA-A-VELHA 9 Good to talk  Barre de céréales au blé complet, riz, avoine complète et mais au chocolat aromatisée, enrichie en 5 vitamines, calcium et fer. Ingrédients: Céréales 50% (blé complet 20,6%, riz 15,1%, avoine complète 8,7%, farine de blé complet 5%, semoule de mais, farine de riz), chocolat 17% (sucre, pâte de cacao, lait écrémé en poudre, beurre de cacao, lactosérum en poudre (lait), emulsifiants (lécithine de soja, E476), arôme naturel de vanille), sirop de glucose, sucre, sirop de sucre inverti, extrait de malt d'orge (orge, orge malté), humectant (glycérol), huile de tournesol, vítamines et minéraux (carbonate de calcum, fer et pyrophosphate de fer, niacine, acide pantothénique, vítamine B6, acide folique, riboflavine), sel, cacao maigre en poudre, émulsifiant (lécithine de tournesol), cacao en poudre, mélasse, arôme naturel, antioxydant (extrait riche en tocophérols). Peut contenir des fruits à coque. 1 barre=1 portion.  Nestle Nestlē. Good Food, Good Life INFORMATIONS NUTRITIONNELLES/| Pour/ NUTRITIONELE INFORMATIE/ INFORMAÇÃO NUTRICIONAL Pour/ Per/Por Per/Por 100g 23,5g (%*) Énergie / Energie /Energia 1624 kJ 382 kJ (5%) 386 kcal 91 kcal (5%) Matières grasses /Vetten/ Lípidos dont acides gras saturés/ - waarvan verzadigde vetzuren / - dos quais saturados Glucides/Koolhydraten /Hidratos de carbono 69,2g| 16,3g(6%) dont sucres/-waarvan suikers/ - dos quais açúcares Fibres alimentaires/Vezels /Fibra Protéines / Eiwitten/Proteínas Sel/Zout/Sal 8,3g 1,9g(3%) 3,3g 0,8g(4%) 24,8g 5,89(6%) 7,0g 1,6g () 6,5 g 1,5g(3%) 0,62 g| 0,14g(2%) VITAMINES ET MINÉRAUX / VITAMINEN EN MINERALEN / VITAMINAS E MINERAIS B2 - Riboflavine/Riboflavina B3 - Niacine/Niacina B6-Vitamine B6/Vitamina B6 B9- Acide folique/ Foliumzuur/ Ácido Fólico B5- Acide pantothénigue/ Pantotheenzuur/Ácido pantoténico Calcium/Cálcio/Calcio Fer/ljzer/Ferro Pour/Per/Por | Pour/Per/Por 100 g(%** 23,5 g (%**) 1,6mg (114%) 0,38 mg (27%) 16 mg 100%) 3,7mg (23%) 1,Amg (100%) 0,32 mg (23%) 187 ug (94%)| 43,9 µg (22%) 5,9 mg (98%)| 1,4mg(23%) 769 mg (96%)| 181 mg (23%) 13 mg (93%) | 3,0mg (21%) **% de l'apport de référence pour un adulte-type (8400 kl/2000 kcal). Contient 6 portions de 23,5 g. Les portions doivent être adaptées à l'âge de l'enfant./ **% van de referentie-inname van een gemiddelde volwassene (8400 kJ /2000 ka). Bevat 6 porties van 23,5 g. Porties dienen te worden aangepast aan kinderen volgens hun leftijd./ ** Dose de Referência para um adulto médio (8400 kJ /2000 kal). Contém 6 porções de 23,5 g. ***VNR: Valeurs nutritionnelles de référence./***RWE: Referentie-waarde etikettering. /**9%VRN: Valores de Referêndia do Nutriente. NUTRITIONAL COMPASS ® ® Reg. Trademark of Société des Produits Nestlé S.A.  AU PETIT-DÉJEUNER, SAVOUREZ VOTRE BARRE DE CÉRÉALES EN L'ACCOMPAGNANT DE : Chocolate GENIET BIJ HET ONTBIJT VAN UW GRAANREEP EN VOEG HET VOLGENDE TOE: AO PEQUENO-ALMOÇO INCLUA TAMBÉM FRUTA, LÁCTÉOS E ÁGUA: Fitness  Chocolate Fitness  Nestle Whole Grain No.1 Ingredient' Source of Fibre? No Artificial Colours or Flavours³ Chocolate Fitness NUTRI-SCORE ABCDE ABCDENUTRITIOUS ENERGY* BREAKFAST CEREAL BAR\" \"Barre de céréales pour le petit-déjeuner / Graanreep voor het ontbijt / Barra de Cereais de Pequeno-Almoço *B-vitamins contribute to normal energy-yielding metabolism as part of a varied and balanced diet and a healthy lifestyle x6 1  Nestle itness CHOCOLATE) 23,5g Energy 2 372 kJ 88kcal 1)CHOCOLAT/CHOCOLADE/ CIOCCOLATO/EOKOAATA  invertido, extracto de malta de cebada, hu Casca carbonato Calico, hierro. Puede contener trazas de fruto Servicio de Informacion SEE Eval KaA6 va μthdrE Fale connosco al consumidor Nestle servico ao Consumidor Apartado de Correos 1404-08080 Barcelona Tel. 800 203 591·08:30 as 18:30 ldias utes) Tel. 900112131-www.nestle.es Conserva r esta direccion para futura s referencias (xwoic XPEwon) Amo Klvnto mA: faleconnosco@pt.nestle.com ESPANA, SA Edificio Nestle, 08950 Esplugues de Llobregat (Barcelona) Apartado 68 . 2796-901 LINDA-A-VELHA Pour Noor / Per / Aval Por 100g e folique / Foliumzuur / Acido folio / Sel/zout/sale/alm/sal:0.19 72k//88kcal Matieres grasses / vetten/grass/Amapa/grasas/lipidos 1.7g grassi saturi EK Tuwomo瞓KOpenueva / de las cuales saturadas /dos  Chocealatê सा FitneSS Whole Grain No.1 Ingredient' complet Je itamines 8L,83,85 et86 antibuent aun lestimporant davoir me alimentaton varie et equibret n mode e iesin. Nestlē No Artificial Colours or Flayours³ an vempeidheid en moeheid. Hetis belangik om een Source of Fibre? ontiuen para onomal meabolismo prodtor de Cequibrade eum entih de vida atina. 4 Chocolate Sans alorant antficel,n arime atficel Zonder Fitness Sem corantes nem aromas arthidias. Chocalat Chocolade Cholate epu 141 g (6x235 gC Cereal Partners Wordwide Westle and General Hills X6 \"Barre de céréales pour le petit-déjeuner / Graanreep voor het ontbijt / Barra de Cereais de Pequeno-Almoço *B-vitamins contribute to normal energy-yielding metabolism as part of a varied and balanced diet and a healthy lifestyle ABCDENUTRITIOUS ENERGY* 44077699 NUTRI-SCORE BREAKFAST CEREAL BAR\" A consommer de préférence avant fin:/Ten minste houdbaar tot einde:/ Consumir de preferêncdia antes do fim de: conserver dans un endroit frais et sec./Op een koele en droge plaats bewaren./ Conservar em local fresco e seco. \n",
      "\n",
      " ____ final selection ____\n",
      "DD at enurAcido connosnsumidor ca DTo Plus SADAVELHAulano di Meer OM HI SSe PBarras βρμη εύa gerst στάριολκής arôme σ Fitness CHOCOLATE Tradizionale Coal Nestle pr CHOCOLAT CHOCOLADE CIOCCOLATO kca invertido extracto malta cebada hu Casca carbonato Calico Puede contener à en blé au Barre mais malt avoine acide pantothénique Nestle itness CHOCOLATE Energy CHOCOLAT CHOCOLADE CIOCCOLATO EOKOAATA Fitness OCOLATE Nestle CHOCOLADE kc CIOCCOLATO ZOKOAATA LAT Energy Fitness Nestle Energy CHOCOLATE CHOCOLAT CHOCOLADE CIOCCOLATO EOKOAATA. . . complet Je itanines aun danoir alimentaton varie BREAKFAST CEREAL BAR Barre Céréales Rarre nutritive cadre un PETIT DÉJEUNER Les vitamines contribuent métabolisme normal réduire important avoir variée équilibrée Volkorengranen ingrediënt Cereales Integrales Fibra artificiel arôme Zonder kunstmatige Lípidos quais açúcares µg portions doivent adaptées âge RWE Referentie waarde Valores Société Nestlé PAP en GENIET extrato malte Service consommateurs Belgilux NV Birminghamstraat Bruxelles Plus gratuit poudre cacao mélasse naturel antioxydant extrait riche tocophérols fer mais farine riz émulsifiants lécithine tournesol Acide sucre pâte soja carbonate calcium semoule orge malté sirop inverti blé humectant glycérol pépites chocolat polyglycérol vanille avoine complète malt lactosérum polyricinoléate AU aromatisée enrichie Fitness Ten fim Ingrediente Integrais rist Noisel talk vítamines Referêndia\n",
      "\n",
      " ____ text of main language after cleaning ____\n",
      "complet Je itanines antibuent aun lestimporant danoir ne alimentaton varie equibret BREAKFAST CEREAL BAR Barre céréales ENERGY NUTRI SCORE 器 préférence ABICIDENUTRITIOUS ENERGY BREAKFAST CEREAL BAR Rarre céréales Énergie nutritive Dans cadre un petit déjeuner complet les vitamines contribuent à un métabolisme énergétique normal à réduire Il est important avoir une alimentation variée équilibrée un mode Céréales complètes ingrédient Volkorengranen ingrediënt Cereales Integrales Fibra Sans colorant artificiel ni arôme artificiel Zonder kunstmatige Energie Energia Matières grasses Vetten Lípidos sucres waarvan suikers dos quais açúcares Fibres alimentaires Vezels Fibra Protéines µg apport référence un adulte type ka Contient portions Les portions doivent être adaptées à âge van NUTRI SCORE VNR Valeurs nutritionnelles RWE Referentie waarde Valores Referência Trademark Société des Produits Nestlé BREAKFAST CEREAL BAR PAP Barre céréales CÉRÉALES EN ACCOMPAGNANT GENIET BIJ cálcio extrato malte cevada Service Consommateurs Consumentendienst Belgilux NV Rue Birminghamstraat BE Bruxelles Issy les Moulineaux FR Plus informations service gratuit prix appel extrato malte Peut contenir des fruits à TRIGO INTEGRAL poudre cacao en poudre mélasse arôme naturel antioxydant extrait riche en tocophérols fer vitamines mais farine riz émulsifiants lécithine tournesol mono diglycérides acide gras cacao maigre en noir sucre pâte cacao émulsifiant lécithine soja huile tournesol carbonate calcium sel semoule orge orge malté sucre sirop sucre inverti farine blé complet humectant glycérol pépites chocolat polyglycérol arôme naturel vanille sirop glucose flocons avoine complète extrait malt orge cacao lait écrémé en poudre lactosérum en poudre émulsifiants lécithine soja polyricinoléate vitamines calcium Ingrédients blé complet riz chocolat sucre pâte cacao beurre FR Barre céréales au blé complet riz avoine complète au chocolat aromatisée enrichie en VOLKORENTARWE BLÉ COMPLET Fitness À préférence avant fin Ten do fim conserver dans un endroit Énergie nutritive Dans cadre un petit déjeuner complet les vitamines contribuent à un métabolisme énergétique normal à réduire Il est important avoir une alimentation variée équilibrée un mode vie ingrédient Volkorengranen ingrediënt Cereales Integrales Ingrediente Cereais Integrais Ingrediente Source fibres Bron colorant artificiel ni arôme artificiel Zonder kunstmatige kleurstoffen noch PAP préférence avant GD Barre céréales au blé complet au chocolat enrichie en vitamines calcium met blé complet senouedena laise chocolat rist poudre beure III Plus informations Consommateurs Neste France BP Noisel Mame Chocolate Fitness FR Barre céréales au blé complet riz avoine complète au chocolat aromatisée enrichie en vitamines calcium Ingrédients blé complet riz chocolat sucre pâte cacao beurre cacao lait écrémé en poudre lactosérum en poudre émulsifiants lécithine soja polyricinoléate polyglycérol arôme naturel vanille sirop glucose flocons avoine complète extrait malt orge orge orge malté sucre sirop sucre inverti farine blé complet humectant glycérol pépites chocolat noir sucre pâte cacao émulsifiant lécithine soja huile tournesol carbonate calcium sel semoule mais farine riz émulsifiants lécithine tournesol mono diglycérides acide gras cacao maigre en poudre cacao en poudre mélasse arôme naturel antioxydant extrait riche en tocophérols fer vitamines Peut contenir des fruits à BLÉ COMPLET vitamine en Bevat gE Plus informations service gratuit prix appel Service consommateurs Belgilux NV Rue Birminghamstraat BE Bruxelles talk Barre céréales au blé complet riz avoine complète mais au chocolat aromatisée enrichie en vitamines calcium Ingrédients Céréales blé complet riz avoine complète farine blé complet semoule mais farine riz chocolat sucre pâte cacao lait écrémé en poudre beurre cacao lactosérum en poudre lait emulsifiants lécithine soja arôme naturel vanille sirop glucose sucre sirop sucre inverti extrait malt orge orge orge malté humectant glycérol huile tournesol vítamines minéraux carbonate calcum fer pyrophosphate fer niacine acide pantothénique en poudre émulsifiant lécithine tournesol cacao en poudre mélasse arôme naturel antioxydant extrait riche en tocophérols Peut contenir des fruits à Matières grasses Vetten Lípidos sucres waarvan suikers dos quais açúcares Fibres alimentaires Vezels Fibra Protéines Eiwitten Proteínas Sel Zout Sal Vitamine Vitamina Acide folique Foliumzuur Ácido ug µg apport référence un adulte type Contient portions Les portions doivent être adaptées à âge RWE Referentie waarde VRN Valores Referêndia Société des Produits Nestlé AU PETIT DÉJEUNER complet Je itamines antibuent aun lestimporant davoir me alimentaton varie equibret BAR préférence avant fin Ten minste fim conserver dans un endroit frais\n",
      "\n",
      " ____ text selection with tdidf score\n",
      "complet Je itanines aun danoir alimentaton varie BREAKFAST CEREAL BAR Barre Céréales Rarre nutritive cadre un PETIT DÉJEUNER Les vitamines contribuent métabolisme normal réduire important avoir variée équilibrée Volkorengranen ingrediënt Cereales Integrales Fibra artificiel arôme Zonder kunstmatige Lípidos quais açúcares µg portions doivent adaptées âge RWE Referentie waarde Valores Société Nestlé PAP en GENIET extrato malte Service consommateurs Belgilux NV Birminghamstraat Bruxelles Plus gratuit poudre cacao mélasse naturel antioxydant extrait riche tocophérols fer mais farine riz émulsifiants lécithine tournesol Acide sucre pâte soja carbonate calcium semoule orge malté sirop inverti blé humectant glycérol pépites chocolat polyglycérol vanille avoine complète malt lactosérum polyricinoléate AU aromatisée enrichie Fitness Ten fim Ingrediente Integrais rist Noisel talk vítamines Referêndia\n",
      "\n",
      " ____ text selection - intersection between languages ____\n",
      "\n",
      "\n",
      " ____ text selection - intersection between OCRs ____\n",
      "\n",
      "\n",
      " ___ text selection - big words from image ____\n",
      "DD at enurAcido connosnsumidor ca DTo Plus SADAVELHAulano di Meer OM HI SSe PBarras βρμη εύa gerst στάριολκής arôme σ Fitness CHOCOLATE Tradizionale Coal Nestle pr CHOCOLAT CHOCOLADE CIOCCOLATO kca invertido extracto malta cebada hu Casca carbonato Calico Puede contener à en blé au Barre mais malt avoine acide pantothénique Nestle itness CHOCOLATE Energy CHOCOLAT CHOCOLADE CIOCCOLATO EOKOAATA Fitness OCOLATE Nestle CHOCOLADE kc CIOCCOLATO ZOKOAATA LAT Energy Fitness Nestle Energy CHOCOLATE CHOCOLAT CHOCOLADE CIOCCOLATO EOKOAATA\n"
     ]
    }
   ],
   "source": [
    "input_text = df[\"texts\"].iloc[i]\n",
    "final_selection = df[\"word_selection\"].iloc[i]\n",
    "text_clean = df[\"text_main_lang_cleaned\"].iloc[i]\n",
    "text_tf = df[\"tfidf_selection\"].iloc[i]\n",
    "text_insct_lang = df[\"intersection_words_lang\"].iloc[i]\n",
    "text_insct_ocr = df[\"intersection_words_ocr\"].iloc[i]\n",
    "barcode = df[\"code\"].iloc[i]\n",
    "\n",
    "\n",
    "print(barcode)\n",
    "print(re.sub(r\"\\n\", \" \", input_text))\n",
    "print(\"\\n ____ final selection ____\")\n",
    "print(final_selection)\n",
    "print(\"\\n ____ text of main language after cleaning ____\")\n",
    "print(text_clean)\n",
    "print(\"\\n ____ text selection with tdidf score\")\n",
    "print(text_tf)\n",
    "print(\"\\n ____ text selection - intersection between languages ____\")\n",
    "print(text_insct_lang)\n",
    "print(\"\\n ____ text selection - intersection between OCRs ____\")\n",
    "print(text_insct_ocr)\n",
    "print(\"\\n ___ text selection - big words from image ____\")\n",
    "if barcode in big_words_dict:\n",
    "    print(big_words_dict[barcode])"
   ]
  },
  {
   "cell_type": "code",
   "execution_count": 69,
   "metadata": {},
   "outputs": [
    {
     "data": {
      "text/plain": [
       "'ALM SAUMON ATLANTISCHE ATLANTIQUE Pavés BEVROREN CONGELÉ Moten Qualité sans arête peau Kwaliteit zonder graat ZALM SAUMON ATLANTIQUE ATLANTISCHE BEVROREN Moten Pavés CONGELÉ Nettogewicht Qualité FILIÈRE sans arête peau Kwaliteit'"
      ]
     },
     "execution_count": 69,
     "metadata": {},
     "output_type": "execute_result"
    }
   ],
   "source": [
    "barcode = \"3560070851003\"\n",
    "get_big_words_from_image_clean(barcode, df = df)"
   ]
  }
 ],
 "metadata": {
  "interpreter": {
   "hash": "7ba1f239449f425eb3a38518ae99d1f767aed482cc07821544aaa5748f4ec966"
  },
  "kernelspec": {
   "display_name": "Python 3.9.12 ('env_tf')",
   "language": "python",
   "name": "python3"
  },
  "language_info": {
   "codemirror_mode": {
    "name": "ipython",
    "version": 3
   },
   "file_extension": ".py",
   "mimetype": "text/x-python",
   "name": "python",
   "nbconvert_exporter": "python",
   "pygments_lexer": "ipython3",
   "version": "3.9.12"
  },
  "orig_nbformat": 4
 },
 "nbformat": 4,
 "nbformat_minor": 2
}
