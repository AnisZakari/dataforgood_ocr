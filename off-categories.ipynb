{
 "cells": [
  {
   "cell_type": "code",
   "execution_count": 2,
   "metadata": {},
   "outputs": [],
   "source": [
    "import pandas as pd\n",
    "import numpy as np\n"
   ]
  },
  {
   "cell_type": "code",
   "execution_count": 3,
   "metadata": {},
   "outputs": [],
   "source": [
    "df_fr_embeddings_path = \"/Users/Anis/DataProjects/dataforgood/d4g-off/df_fr_100000_with_embeddings.csv\"\n",
    "df_fr = \"/Users/Anis/DataProjects/dataforgood/d4g-off/df_fr_cleaned.csv\"\n",
    "df_fr_cleaned = pd.read_csv(df_fr)\n",
    "embeddings = pd.read_csv(df_fr_embeddings_path)"
   ]
  },
  {
   "cell_type": "code",
   "execution_count": 4,
   "metadata": {},
   "outputs": [
    {
     "data": {
      "text/html": [
       "<div>\n",
       "<style scoped>\n",
       "    .dataframe tbody tr th:only-of-type {\n",
       "        vertical-align: middle;\n",
       "    }\n",
       "\n",
       "    .dataframe tbody tr th {\n",
       "        vertical-align: top;\n",
       "    }\n",
       "\n",
       "    .dataframe thead th {\n",
       "        text-align: right;\n",
       "    }\n",
       "</style>\n",
       "<table border=\"1\" class=\"dataframe\">\n",
       "  <thead>\n",
       "    <tr style=\"text-align: right;\">\n",
       "      <th></th>\n",
       "      <th>0</th>\n",
       "      <th>1</th>\n",
       "      <th>2</th>\n",
       "      <th>3</th>\n",
       "      <th>4</th>\n",
       "      <th>5</th>\n",
       "      <th>6</th>\n",
       "      <th>7</th>\n",
       "      <th>8</th>\n",
       "      <th>9</th>\n",
       "      <th>...</th>\n",
       "      <th>376</th>\n",
       "      <th>377</th>\n",
       "      <th>378</th>\n",
       "      <th>379</th>\n",
       "      <th>380</th>\n",
       "      <th>381</th>\n",
       "      <th>382</th>\n",
       "      <th>383</th>\n",
       "      <th>categories</th>\n",
       "      <th>lang</th>\n",
       "    </tr>\n",
       "  </thead>\n",
       "  <tbody>\n",
       "    <tr>\n",
       "      <th>0</th>\n",
       "      <td>-0.001922</td>\n",
       "      <td>0.213273</td>\n",
       "      <td>-0.040874</td>\n",
       "      <td>-0.045164</td>\n",
       "      <td>0.202550</td>\n",
       "      <td>0.024905</td>\n",
       "      <td>0.138900</td>\n",
       "      <td>0.131194</td>\n",
       "      <td>0.328093</td>\n",
       "      <td>0.038082</td>\n",
       "      <td>...</td>\n",
       "      <td>0.492625</td>\n",
       "      <td>0.114075</td>\n",
       "      <td>0.109383</td>\n",
       "      <td>-0.232836</td>\n",
       "      <td>-0.351491</td>\n",
       "      <td>-0.738289</td>\n",
       "      <td>0.471113</td>\n",
       "      <td>-0.070052</td>\n",
       "      <td>['en:beverages', 'en:alcoholic-beverages', 'en...</td>\n",
       "      <td>fr</td>\n",
       "    </tr>\n",
       "    <tr>\n",
       "      <th>1</th>\n",
       "      <td>-0.160400</td>\n",
       "      <td>0.228527</td>\n",
       "      <td>0.126597</td>\n",
       "      <td>-0.245786</td>\n",
       "      <td>0.084575</td>\n",
       "      <td>0.055743</td>\n",
       "      <td>0.574505</td>\n",
       "      <td>0.159691</td>\n",
       "      <td>0.101362</td>\n",
       "      <td>0.053742</td>\n",
       "      <td>...</td>\n",
       "      <td>0.255385</td>\n",
       "      <td>0.098431</td>\n",
       "      <td>0.113733</td>\n",
       "      <td>0.004395</td>\n",
       "      <td>-0.192050</td>\n",
       "      <td>-0.428666</td>\n",
       "      <td>0.367828</td>\n",
       "      <td>0.057453</td>\n",
       "      <td>['en:plant-based-foods-and-beverages', 'en:pla...</td>\n",
       "      <td>fr</td>\n",
       "    </tr>\n",
       "  </tbody>\n",
       "</table>\n",
       "<p>2 rows × 386 columns</p>\n",
       "</div>"
      ],
      "text/plain": [
       "          0         1         2         3         4         5         6  \\\n",
       "0 -0.001922  0.213273 -0.040874 -0.045164  0.202550  0.024905  0.138900   \n",
       "1 -0.160400  0.228527  0.126597 -0.245786  0.084575  0.055743  0.574505   \n",
       "\n",
       "          7         8         9  ...       376       377       378       379  \\\n",
       "0  0.131194  0.328093  0.038082  ...  0.492625  0.114075  0.109383 -0.232836   \n",
       "1  0.159691  0.101362  0.053742  ...  0.255385  0.098431  0.113733  0.004395   \n",
       "\n",
       "        380       381       382       383  \\\n",
       "0 -0.351491 -0.738289  0.471113 -0.070052   \n",
       "1 -0.192050 -0.428666  0.367828  0.057453   \n",
       "\n",
       "                                          categories  lang  \n",
       "0  ['en:beverages', 'en:alcoholic-beverages', 'en...    fr  \n",
       "1  ['en:plant-based-foods-and-beverages', 'en:pla...    fr  \n",
       "\n",
       "[2 rows x 386 columns]"
      ]
     },
     "execution_count": 4,
     "metadata": {},
     "output_type": "execute_result"
    }
   ],
   "source": [
    "embeddings.head(2)"
   ]
  },
  {
   "cell_type": "code",
   "execution_count": 5,
   "metadata": {},
   "outputs": [],
   "source": [
    "embeddings_vectors = embeddings.iloc[:,:-2]"
   ]
  },
  {
   "cell_type": "code",
   "execution_count": 6,
   "metadata": {},
   "outputs": [],
   "source": [
    "from numpy.linalg import norm\n",
    "def cos(a,b):\n",
    "    a = np.array(a)\n",
    "    b = np.array(b)\n",
    "    return np.divide( a.T @ b, norm(a)*norm(b))"
   ]
  },
  {
   "cell_type": "code",
   "execution_count": 21,
   "metadata": {},
   "outputs": [],
   "source": [
    "A = np.array([\n",
    "    [0, 1, 2],\n",
    "    [1, 2, 3],\n",
    "    [3, 4, 6]\n",
    "])\n",
    "\n",
    "B  = np.array([\n",
    "    [1, 1, 2],\n",
    "    [1, 2, 3],\n",
    "    [9, -2, 6]\n",
    "])\n",
    "\n",
    "C = np.array([\n",
    "    [0, 1, 2],\n",
    "    [1, 2, 3],\n",
    "    [3, 4, 4]\n",
    "])"
   ]
  },
  {
   "cell_type": "code",
   "execution_count": 30,
   "metadata": {},
   "outputs": [],
   "source": [
    "def dist(a,b):\n",
    "    a = np.array(a)\n",
    "    b = np.array(b)\n",
    "    return np.sqrt(sum((a-b)**2))"
   ]
  },
  {
   "cell_type": "code",
   "execution_count": 32,
   "metadata": {},
   "outputs": [],
   "source": [
    "def get_mat_dist(X):\n",
    "    mat = np.zeros((len(X), len(X)))\n",
    "    for i in range(len(X)):\n",
    "        for j in range(len(X)):\n",
    "            d = dist(X[i], X[j])\n",
    "            mat[i,j] = d\n",
    "    return mat\n"
   ]
  },
  {
   "cell_type": "code",
   "execution_count": null,
   "metadata": {},
   "outputs": [],
   "source": []
  }
 ],
 "metadata": {
  "interpreter": {
   "hash": "da74329ee44caaaadc2241bd9bf0ad7b3fcbcbcee1ead6b0df9ee9878505f847"
  },
  "kernelspec": {
   "display_name": "Python 3.8.5 64-bit ('base': conda)",
   "name": "python3"
  },
  "language_info": {
   "codemirror_mode": {
    "name": "ipython",
    "version": 3
   },
   "file_extension": ".py",
   "mimetype": "text/x-python",
   "name": "python",
   "nbconvert_exporter": "python",
   "pygments_lexer": "ipython3",
   "version": "3.9.7"
  },
  "orig_nbformat": 4
 },
 "nbformat": 4,
 "nbformat_minor": 2
}
