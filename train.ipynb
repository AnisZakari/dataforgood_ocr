{
 "cells": [
  {
   "cell_type": "code",
   "execution_count": 2,
   "metadata": {},
   "outputs": [],
   "source": [
    "import numpy as np\n",
    "import pandas as pd\n",
    "import re"
   ]
  },
  {
   "cell_type": "code",
   "execution_count": 7,
   "metadata": {},
   "outputs": [],
   "source": [
    "path_products = os.path.abspath(\"../datasets/predict_categories_dataset_products.jsonl.gz\")\n",
    "path_dataset = os.path.abspath(\"dataset/dataset.pkl\")\n"
   ]
  },
  {
   "cell_type": "code",
   "execution_count": 4,
   "metadata": {},
   "outputs": [],
   "source": [
    "\"\"\"approx time 40sec\"\"\"\n",
    "from IPython.display import clear_output\n",
    "import gzip\n",
    "import json\n",
    "# make df from json\n",
    "rows = []\n",
    "with gzip.open(path_products) as f:\n",
    "    for i, line in enumerate(f):\n",
    "        json_line = json.loads(line)\n",
    "        code = json_line['code']\n",
    "        categories_tags = json_line['categories_tags']\n",
    "        rows.append([code, categories_tags])\n",
    "\n",
    "df_categories = pd.DataFrame(rows, columns = [\"code\", \"categories_tags\"]).set_index(\"code\", drop = True)"
   ]
  },
  {
   "cell_type": "code",
   "execution_count": 18,
   "metadata": {},
   "outputs": [
    {
     "name": "stdout",
     "output_type": "stream",
     "text": [
      "noise or empty lines: 194\n",
      "(596366, 3)\n"
     ]
    }
   ],
   "source": [
    "df = pd.read_pickle(path_dataset)\n",
    "empty_or_noise = df[\"word_selection\"].str.len() < 10\n",
    "print(\"noise or empty lines:\", empty_or_noise.sum())\n",
    "df = df[~empty_or_noise]\n",
    "dataset = df[[\"code\", \"word_selection\"]]\n",
    "dataset = dataset.merge(df_categories, left_on=\"code\", right_on=\"code\")\n",
    "print(dataset.shape)\n",
    "del df\n",
    "del df_categories\n"
   ]
  },
  {
   "cell_type": "code",
   "execution_count": 19,
   "metadata": {},
   "outputs": [
    {
     "data": {
      "text/html": [
       "<div>\n",
       "<style scoped>\n",
       "    .dataframe tbody tr th:only-of-type {\n",
       "        vertical-align: middle;\n",
       "    }\n",
       "\n",
       "    .dataframe tbody tr th {\n",
       "        vertical-align: top;\n",
       "    }\n",
       "\n",
       "    .dataframe thead th {\n",
       "        text-align: right;\n",
       "    }\n",
       "</style>\n",
       "<table border=\"1\" class=\"dataframe\">\n",
       "  <thead>\n",
       "    <tr style=\"text-align: right;\">\n",
       "      <th></th>\n",
       "      <th>code</th>\n",
       "      <th>word_selection</th>\n",
       "      <th>categories_tags</th>\n",
       "    </tr>\n",
       "  </thead>\n",
       "  <tbody>\n",
       "    <tr>\n",
       "      <th>0</th>\n",
       "      <td>0021065000071</td>\n",
       "      <td>Facts Calories Nutrition servings container Se...</td>\n",
       "      <td>[en:groceries, en:sauces]</td>\n",
       "    </tr>\n",
       "    <tr>\n",
       "      <th>1</th>\n",
       "      <td>0021065000101</td>\n",
       "      <td>Steves Eds ORIGINAL Louisiana Hot Sauce. . . ...</td>\n",
       "      <td>[en:groceries, en:sauces, en:hot-sauces]</td>\n",
       "    </tr>\n",
       "    <tr>\n",
       "      <th>2</th>\n",
       "      <td>0021078019091</td>\n",
       "      <td>SOURCE NATURALS DIETARY SUPPLEMENT TRUE WHEY T...</td>\n",
       "      <td>[en:dietary-supplements, en:bodybuilding-suppl...</td>\n",
       "    </tr>\n",
       "    <tr>\n",
       "      <th>3</th>\n",
       "      <td>0021110336001</td>\n",
       "      <td>Whole Sighature MAD White Potatoes SEA kitchen...</td>\n",
       "      <td>[en:plant-based-foods-and-beverages, en:plant-...</td>\n",
       "    </tr>\n",
       "    <tr>\n",
       "      <th>4</th>\n",
       "      <td>0021130008124</td>\n",
       "      <td>DISTRIBUTED BY Nutrition Facts SAFEWAY INC PO ...</td>\n",
       "      <td>[en:groceries, en:sauces, en:tomato-sauces, en...</td>\n",
       "    </tr>\n",
       "  </tbody>\n",
       "</table>\n",
       "</div>"
      ],
      "text/plain": [
       "            code                                     word_selection  \\\n",
       "0  0021065000071  Facts Calories Nutrition servings container Se...   \n",
       "1  0021065000101   Steves Eds ORIGINAL Louisiana Hot Sauce. . . ...   \n",
       "2  0021078019091  SOURCE NATURALS DIETARY SUPPLEMENT TRUE WHEY T...   \n",
       "3  0021110336001  Whole Sighature MAD White Potatoes SEA kitchen...   \n",
       "4  0021130008124  DISTRIBUTED BY Nutrition Facts SAFEWAY INC PO ...   \n",
       "\n",
       "                                     categories_tags  \n",
       "0                          [en:groceries, en:sauces]  \n",
       "1           [en:groceries, en:sauces, en:hot-sauces]  \n",
       "2  [en:dietary-supplements, en:bodybuilding-suppl...  \n",
       "3  [en:plant-based-foods-and-beverages, en:plant-...  \n",
       "4  [en:groceries, en:sauces, en:tomato-sauces, en...  "
      ]
     },
     "execution_count": 19,
     "metadata": {},
     "output_type": "execute_result"
    }
   ],
   "source": [
    "dataset.head()"
   ]
  },
  {
   "cell_type": "code",
   "execution_count": 20,
   "metadata": {},
   "outputs": [],
   "source": [
    "from sentence_transformers import SentenceTransformer\n",
    "model = SentenceTransformer('paraphrase-MiniLM-L6-v2')"
   ]
  },
  {
   "cell_type": "code",
   "execution_count": 21,
   "metadata": {},
   "outputs": [
    {
     "name": "stderr",
     "output_type": "stream",
     "text": [
      "100%|██████████| 596366/596366 [3:39:07<00:00, 45.36it/s]  \n"
     ]
    }
   ],
   "source": [
    "from tqdm import tqdm\n",
    "embeddings_list = []\n",
    "append = embeddings_list.append\n",
    "for text in tqdm(dataset[\"word_selection\"]):\n",
    "    append(model.encode(text))"
   ]
  },
  {
   "cell_type": "code",
   "execution_count": 22,
   "metadata": {},
   "outputs": [],
   "source": [
    "\"\"\"\n",
    "import pickle\n",
    "with open('embeddings.pkl', 'wb') as file:\n",
    "    # A new file will be created\n",
    "    pickle.dump(embeddings_list, file)\n",
    "\"\"\""
   ]
  },
  {
   "cell_type": "code",
   "execution_count": null,
   "metadata": {},
   "outputs": [],
   "source": [
    "import pickle\n",
    "with open('embeddings.pkl', 'rb') as file:\n",
    "    # A new file will be created\n",
    "    pickle.load(file)"
   ]
  },
  {
   "cell_type": "code",
   "execution_count": null,
   "metadata": {},
   "outputs": [],
   "source": [
    "### Make labels\n",
    "#from sklearn.preprocessing import MultiLabelBinarizer\n",
    "#mlb = MultiLabelBinarizer()\n",
    "#y_multilabels = mlb.fit_transform([eval(item) for item in dataset[\"categories_tags\"]])"
   ]
  },
  {
   "cell_type": "code",
   "execution_count": 55,
   "metadata": {},
   "outputs": [
    {
     "data": {
      "text/plain": [
       "52925"
      ]
     },
     "execution_count": 55,
     "metadata": {},
     "output_type": "execute_result"
    }
   ],
   "source": [
    "np.sum(meats_)"
   ]
  },
  {
   "cell_type": "code",
   "execution_count": 46,
   "metadata": {},
   "outputs": [],
   "source": [
    "from sklearn.neighbors import KNeighborsClassifier"
   ]
  },
  {
   "cell_type": "code",
   "execution_count": 116,
   "metadata": {},
   "outputs": [
    {
     "name": "stdout",
     "output_type": "stream",
     "text": [
      "              precision    recall  f1-score   support\n",
      "\n",
      "           0       0.99      0.95      0.97    565143\n",
      "           1       0.47      0.79      0.59     31223\n",
      "\n",
      "    accuracy                           0.94    596366\n",
      "   macro avg       0.73      0.87      0.78    596366\n",
      "weighted avg       0.96      0.94      0.95    596366\n",
      "\n"
     ]
    }
   ],
   "source": [
    "from sklearn.metrics import classification_report\n",
    "\n",
    "X = np.array(embeddings_list)\n",
    "y = np.array(meats_).ravel()\n",
    "from sklearn.linear_model import LogisticRegression\n",
    "\n",
    "clf = LogisticRegression(max_iter=500)\n",
    "\n",
    "\n",
    "clf.fit(X,y)\n",
    "\n",
    "#y_pred = knn.predict(X)\n",
    "y_pred = clf.predict(X)\n",
    "\n",
    "print(classification_report(y_pred, y))"
   ]
  },
  {
   "cell_type": "code",
   "execution_count": 135,
   "metadata": {},
   "outputs": [],
   "source": [
    "from sklearn.model_selection import train_test_split\n",
    "X_train, X_test, y_train, y_test = train_test_split(X, y, test_size=0.2, random_state=42)"
   ]
  },
  {
   "cell_type": "code",
   "execution_count": 405,
   "metadata": {},
   "outputs": [
    {
     "data": {
      "text/html": [
       "<div>\n",
       "<style scoped>\n",
       "    .dataframe tbody tr th:only-of-type {\n",
       "        vertical-align: middle;\n",
       "    }\n",
       "\n",
       "    .dataframe tbody tr th {\n",
       "        vertical-align: top;\n",
       "    }\n",
       "\n",
       "    .dataframe thead th {\n",
       "        text-align: right;\n",
       "    }\n",
       "</style>\n",
       "<table border=\"1\" class=\"dataframe\">\n",
       "  <thead>\n",
       "    <tr style=\"text-align: right;\">\n",
       "      <th></th>\n",
       "      <th>code</th>\n",
       "      <th>word_selection</th>\n",
       "      <th>categories_tags</th>\n",
       "      <th>category_normalized</th>\n",
       "    </tr>\n",
       "  </thead>\n",
       "  <tbody>\n",
       "    <tr>\n",
       "      <th>0</th>\n",
       "      <td>0021065000071</td>\n",
       "      <td>Facts Calories Nutrition servings container Se...</td>\n",
       "      <td>[en:groceries, en:sauces]</td>\n",
       "      <td>[en:sauces]</td>\n",
       "    </tr>\n",
       "    <tr>\n",
       "      <th>1</th>\n",
       "      <td>0021065000101</td>\n",
       "      <td>Steves Eds ORIGINAL Louisiana Hot Sauce. . . ...</td>\n",
       "      <td>[en:groceries, en:sauces, en:hot-sauces]</td>\n",
       "      <td>[en:sauces, en:hot-sauces]</td>\n",
       "    </tr>\n",
       "    <tr>\n",
       "      <th>2</th>\n",
       "      <td>0021078019091</td>\n",
       "      <td>SOURCE NATURALS DIETARY SUPPLEMENT TRUE WHEY T...</td>\n",
       "      <td>[en:dietary-supplements, en:bodybuilding-suppl...</td>\n",
       "      <td>[en:dietary-supplements, en:bodybuilding-suppl...</td>\n",
       "    </tr>\n",
       "    <tr>\n",
       "      <th>3</th>\n",
       "      <td>0021110336001</td>\n",
       "      <td>Whole Sighature MAD White Potatoes SEA kitchen...</td>\n",
       "      <td>[en:plant-based-foods-and-beverages, en:plant-...</td>\n",
       "      <td>[en:plant-based-foods-and-beverages, en:plant-...</td>\n",
       "    </tr>\n",
       "    <tr>\n",
       "      <th>4</th>\n",
       "      <td>0021130008124</td>\n",
       "      <td>DISTRIBUTED BY Nutrition Facts SAFEWAY INC PO ...</td>\n",
       "      <td>[en:groceries, en:sauces, en:tomato-sauces, en...</td>\n",
       "      <td>[en:sauces, en:tomato-sauces, en:ketchup]</td>\n",
       "    </tr>\n",
       "    <tr>\n",
       "      <th>...</th>\n",
       "      <td>...</td>\n",
       "      <td>...</td>\n",
       "      <td>...</td>\n",
       "      <td>...</td>\n",
       "    </tr>\n",
       "    <tr>\n",
       "      <th>596361</th>\n",
       "      <td>3700701300290</td>\n",
       "      <td>. sel. . VALEURS NUTRITIONNELLES MOYENNES en p...</td>\n",
       "      <td>[en:snacks, en:sweet-snacks, en:biscuits-and-c...</td>\n",
       "      <td>[en:snacks, en:sweet-snacks, en:biscuits-and-c...</td>\n",
       "    </tr>\n",
       "    <tr>\n",
       "      <th>596362</th>\n",
       "      <td>7802220650002</td>\n",
       "      <td>. . . ENVAE BOGAR LIAPYAR INGREDIENTES Trigo D...</td>\n",
       "      <td>[en:plant-based-foods-and-beverages, en:plant-...</td>\n",
       "      <td>[en:plant-based-foods-and-beverages, en:plant-...</td>\n",
       "    </tr>\n",
       "    <tr>\n",
       "      <th>596363</th>\n",
       "      <td>0781718996204</td>\n",
       "      <td>. . jose. Ingredientes Miel Abeja Duración Ind...</td>\n",
       "      <td>[en:breakfasts, en:spreads, en:sweet-spreads, ...</td>\n",
       "      <td>[en:breakfasts, en:spreads, en:sweet-spreads, ...</td>\n",
       "    </tr>\n",
       "    <tr>\n",
       "      <th>596364</th>\n",
       "      <td>3258565412401</td>\n",
       "      <td>. . . Ao NE JAMAIS seo best before Par portion...</td>\n",
       "      <td>[en:plant-based-foods-and-beverages, en:plant-...</td>\n",
       "      <td>[en:plant-based-foods-and-beverages, en:plant-...</td>\n",
       "    </tr>\n",
       "    <tr>\n",
       "      <th>596365</th>\n",
       "      <td>4902150657676</td>\n",
       "      <td>. . . 水産 株 お客様サービスセンター 質に 冷凍食品 名 称塩あじえだ豆 原材料名え...</td>\n",
       "      <td>[en:plant-based-foods-and-beverages, en:plant-...</td>\n",
       "      <td>[en:plant-based-foods-and-beverages, en:plant-...</td>\n",
       "    </tr>\n",
       "  </tbody>\n",
       "</table>\n",
       "<p>572141 rows × 4 columns</p>\n",
       "</div>"
      ],
      "text/plain": [
       "                 code                                     word_selection  \\\n",
       "0       0021065000071  Facts Calories Nutrition servings container Se...   \n",
       "1       0021065000101   Steves Eds ORIGINAL Louisiana Hot Sauce. . . ...   \n",
       "2       0021078019091  SOURCE NATURALS DIETARY SUPPLEMENT TRUE WHEY T...   \n",
       "3       0021110336001  Whole Sighature MAD White Potatoes SEA kitchen...   \n",
       "4       0021130008124  DISTRIBUTED BY Nutrition Facts SAFEWAY INC PO ...   \n",
       "...               ...                                                ...   \n",
       "596361  3700701300290  . sel. . VALEURS NUTRITIONNELLES MOYENNES en p...   \n",
       "596362  7802220650002  . . . ENVAE BOGAR LIAPYAR INGREDIENTES Trigo D...   \n",
       "596363  0781718996204  . . jose. Ingredientes Miel Abeja Duración Ind...   \n",
       "596364  3258565412401  . . . Ao NE JAMAIS seo best before Par portion...   \n",
       "596365  4902150657676  . . . 水産 株 お客様サービスセンター 質に 冷凍食品 名 称塩あじえだ豆 原材料名え...   \n",
       "\n",
       "                                          categories_tags  \\\n",
       "0                               [en:groceries, en:sauces]   \n",
       "1                [en:groceries, en:sauces, en:hot-sauces]   \n",
       "2       [en:dietary-supplements, en:bodybuilding-suppl...   \n",
       "3       [en:plant-based-foods-and-beverages, en:plant-...   \n",
       "4       [en:groceries, en:sauces, en:tomato-sauces, en...   \n",
       "...                                                   ...   \n",
       "596361  [en:snacks, en:sweet-snacks, en:biscuits-and-c...   \n",
       "596362  [en:plant-based-foods-and-beverages, en:plant-...   \n",
       "596363  [en:breakfasts, en:spreads, en:sweet-spreads, ...   \n",
       "596364  [en:plant-based-foods-and-beverages, en:plant-...   \n",
       "596365  [en:plant-based-foods-and-beverages, en:plant-...   \n",
       "\n",
       "                                      category_normalized  \n",
       "0                                             [en:sauces]  \n",
       "1                              [en:sauces, en:hot-sauces]  \n",
       "2       [en:dietary-supplements, en:bodybuilding-suppl...  \n",
       "3       [en:plant-based-foods-and-beverages, en:plant-...  \n",
       "4               [en:sauces, en:tomato-sauces, en:ketchup]  \n",
       "...                                                   ...  \n",
       "596361  [en:snacks, en:sweet-snacks, en:biscuits-and-c...  \n",
       "596362  [en:plant-based-foods-and-beverages, en:plant-...  \n",
       "596363  [en:breakfasts, en:spreads, en:sweet-spreads, ...  \n",
       "596364  [en:plant-based-foods-and-beverages, en:plant-...  \n",
       "596365  [en:plant-based-foods-and-beverages, en:plant-...  \n",
       "\n",
       "[572141 rows x 4 columns]"
      ]
     },
     "execution_count": 405,
     "metadata": {},
     "output_type": "execute_result"
    }
   ],
   "source": [
    "dataset[\"word_selection\"]"
   ]
  },
  {
   "cell_type": "code",
   "execution_count": 160,
   "metadata": {},
   "outputs": [
    {
     "name": "stdout",
     "output_type": "stream",
     "text": [
      "TF Version:  2.9.0\n",
      "Eager mode:  True\n",
      "GPU is available\n"
     ]
    }
   ],
   "source": [
    "print(\"TF Version: \", tf.__version__)\n",
    "print(\"Eager mode: \", tf.executing_eagerly())\n",
    "print(\"GPU is\", \"available\" if tf.config.experimental.list_physical_devices(\"GPU\") else \"NOT AVAILABLE\")"
   ]
  },
  {
   "cell_type": "markdown",
   "metadata": {},
   "source": [
    "### Bert"
   ]
  },
  {
   "cell_type": "code",
   "execution_count": 408,
   "metadata": {},
   "outputs": [
    {
     "data": {
      "text/plain": [
       "(572141,)"
      ]
     },
     "execution_count": 408,
     "metadata": {},
     "output_type": "execute_result"
    }
   ],
   "source": [
    "dataset[\"word_selection\"].shape"
   ]
  },
  {
   "cell_type": "code",
   "execution_count": 411,
   "metadata": {},
   "outputs": [
    {
     "name": "stderr",
     "output_type": "stream",
     "text": [
      "2022-06-01 00:31:05.901258: I tensorflow/core/grappler/optimizers/custom_graph_optimizer_registry.cc:113] Plugin optimizer for device_type GPU is enabled.\n"
     ]
    }
   ],
   "source": [
    "categories_freq = {}\n",
    "for categories_list in dataset[\"categories_tags\"]:\n",
    "    for category in categories_list:\n",
    "        if category in categories_freq:\n",
    "            categories_freq[category]+=1\n",
    "        else:\n",
    "            categories_freq[category]=1\n",
    "\n",
    "def sort_dict(dict_):\n",
    "    return {k:v for k,v in sorted(dict_.items(), key = lambda x: x[1], reverse = True)}\n",
    "#sort_dict(categories_freq)\n",
    "\n",
    "def fill_cat(categories_list, cat_to_match, list_):\n",
    "    if cat_to_match in categories_list:\n",
    "        list_.append([1])\n",
    "    else:\n",
    "        list_.append([0])\n",
    "    return list_\n",
    "\n",
    "#'en:sweet-snacks'\n",
    "#'en:meats'\n",
    "#'en:brown-rices'\n",
    "\n",
    "sweet_snacks = []\n",
    "meats_ = []\n",
    "brown_rices = []\n",
    "for categories_list in dataset[\"categories_tags\"]:\n",
    "    sweet_snacks = fill_cat(categories_list, 'en:sweet-snacks', sweet_snacks)\n",
    "    meats_ = fill_cat(categories_list, 'en:meats', meats_)\n",
    "    brown_rices = fill_cat(categories_list, 'en:brown-rices', brown_rices)"
   ]
  },
  {
   "cell_type": "code",
   "execution_count": 413,
   "metadata": {},
   "outputs": [
    {
     "data": {
      "text/plain": [
       "(array([[0],\n",
       "        [0],\n",
       "        [0],\n",
       "        [0],\n",
       "        [0]]),\n",
       " (572141, 1))"
      ]
     },
     "execution_count": 413,
     "metadata": {},
     "output_type": "execute_result"
    }
   ],
   "source": [
    "y = np.array(meats_)\n",
    "y[:5], y.shape\n"
   ]
  },
  {
   "cell_type": "code",
   "execution_count": 414,
   "metadata": {},
   "outputs": [],
   "source": [
    "### Make df\n",
    "X = dataset[\"word_selection\"]\n",
    "y = np.array(meats_).ravel()\n",
    "\n",
    "X_train, X_test, y_train, y_test = train_test_split(X, y, test_size=0.2, random_state=42)\n",
    "\n",
    "train = tf.data.Dataset.from_tensor_slices((X_train, y_train)).shuffle(len(X_train)).batch(64)\n",
    "test = tf.data.Dataset.from_tensor_slices((X_test, y_test)).shuffle(len(X_test)).batch(64)\n"
   ]
  },
  {
   "cell_type": "code",
   "execution_count": 390,
   "metadata": {},
   "outputs": [],
   "source": [
    "from tensorflow.keras.layers import Input, Dropout, Dense\n",
    "from tensorflow.keras.models import Model\n",
    "from tensorflow.keras.optimizers import Adam\n",
    "from tensorflow.keras.callbacks import EarlyStopping\n",
    "from tensorflow.keras.initializers import TruncatedNormal\n",
    "from tensorflow.keras.losses import CategoricalCrossentropy\n",
    "from tensorflow.keras.metrics import CategoricalAccuracy\n",
    "from tensorflow.keras.utils import to_categorical\n",
    "\n",
    "import os\n",
    "import shutil\n",
    "\n",
    "import tensorflow as tf\n",
    "import tensorflow_hub as hub\n",
    "import tensorflow_text as text\n",
    "from official.nlp import optimization  # to create AdamW optimizer\n",
    "\n",
    "import matplotlib.pyplot as plt\n",
    "\n",
    "tf.get_logger().setLevel('ERROR')\n"
   ]
  },
  {
   "cell_type": "code",
   "execution_count": 350,
   "metadata": {},
   "outputs": [
    {
     "data": {
      "text/plain": [
       "240"
      ]
     },
     "execution_count": 350,
     "metadata": {},
     "output_type": "execute_result"
    }
   ],
   "source": [
    "max_length = dataset[\"word_selection\"].str.split().str.len().max()\n",
    "max_length"
   ]
  },
  {
   "cell_type": "code",
   "execution_count": 364,
   "metadata": {},
   "outputs": [],
   "source": [
    "bert_model_name = 'bert_multi_cased_L-12_H-768_A-12'\n",
    "tfhub_handle_preprocess = \"https://tfhub.dev/tensorflow/bert_multi_cased_preprocess/3\"\n",
    "tfhub_handle_encoder = \"https://tfhub.dev/tensorflow/bert_multi_cased_L-12_H-768_A-12/3\"\n",
    "#https://tfhub.dev/tensorflow/bert_multi_cased_L-12_H-768_A-12/3\n",
    "#Preprocess model auto-selected: https://tfhub.dev/tensorflow/bert_multi_cased_preprocess/3"
   ]
  },
  {
   "cell_type": "code",
   "execution_count": 376,
   "metadata": {},
   "outputs": [
    {
     "name": "stderr",
     "output_type": "stream",
     "text": [
      "2022-05-31 23:50:33.211760: I tensorflow/core/grappler/optimizers/custom_graph_optimizer_registry.cc:113] Plugin optimizer for device_type GPU is enabled.\n"
     ]
    }
   ],
   "source": [
    "bert_preprocess_model = hub.KerasLayer(tfhub_handle_preprocess)"
   ]
  },
  {
   "cell_type": "code",
   "execution_count": 391,
   "metadata": {},
   "outputs": [],
   "source": [
    "def build_classifier_model():\n",
    "  text_input = tf.keras.layers.Input(shape=(), dtype=tf.string, name='text')\n",
    "  preprocessing_layer = hub.KerasLayer(tfhub_handle_preprocess, name='preprocessing')\n",
    "  encoder_inputs = preprocessing_layer(text_input)\n",
    "  encoder = hub.KerasLayer(tfhub_handle_encoder, trainable=True, name='BERT_encoder')\n",
    "  outputs = encoder(encoder_inputs)\n",
    "  net = outputs['pooled_output']\n",
    "  net = tf.keras.layers.Dropout(0.1)(net)\n",
    "  net = tf.keras.layers.Dense(1, activation=None, name='classifier')(net)\n",
    "  return tf.keras.Model(text_input, net)"
   ]
  },
  {
   "cell_type": "code",
   "execution_count": 392,
   "metadata": {},
   "outputs": [
    {
     "name": "stderr",
     "output_type": "stream",
     "text": [
      "2022-06-01 00:07:35.976289: I tensorflow/core/grappler/optimizers/custom_graph_optimizer_registry.cc:113] Plugin optimizer for device_type GPU is enabled.\n"
     ]
    }
   ],
   "source": [
    "model = build_classifier_model()"
   ]
  },
  {
   "cell_type": "code",
   "execution_count": 396,
   "metadata": {},
   "outputs": [
    {
     "name": "stdout",
     "output_type": "stream",
     "text": [
      "tf.Tensor([[0.34575933]], shape=(1, 1), dtype=float32)\n"
     ]
    }
   ],
   "source": [
    "with tf.device('/cpu:0'):\n",
    "    text_test = [\"mother of dragons\"]\n",
    "    bert_raw_result = model(tf.constant(text_test))\n",
    "    print(tf.sigmoid(bert_raw_result))"
   ]
  },
  {
   "cell_type": "code",
   "execution_count": 398,
   "metadata": {},
   "outputs": [
    {
     "name": "stdout",
     "output_type": "stream",
     "text": [
      "Keys       : ['input_mask', 'input_type_ids', 'input_word_ids']\n",
      "Shape      : (1, 128)\n",
      "Word Ids   : [  101 10531 10124 11049 10151 28149 19308 18379   106   102     0     0]\n",
      "Input Mask : [1 1 1 1 1 1 1 1 1 1 0 0]\n",
      "Type Ids   : [0 0 0 0 0 0 0 0 0 0 0 0]\n"
     ]
    },
    {
     "name": "stderr",
     "output_type": "stream",
     "text": [
      "2022-06-01 00:10:29.722196: I tensorflow/core/grappler/optimizers/custom_graph_optimizer_registry.cc:113] Plugin optimizer for device_type GPU is enabled.\n"
     ]
    }
   ],
   "source": [
    "with tf.device('/cpu:0'):\n",
    "    text_test = ['this is such an amazing movie!']\n",
    "    text_preprocessed = bert_preprocess_model(text_test)\n",
    "\n",
    "    print(f'Keys       : {list(text_preprocessed.keys())}')\n",
    "    print(f'Shape      : {text_preprocessed[\"input_word_ids\"].shape}')\n",
    "    print(f'Word Ids   : {text_preprocessed[\"input_word_ids\"][0, :12]}')\n",
    "    print(f'Input Mask : {text_preprocessed[\"input_mask\"][0, :12]}')\n",
    "    print(f'Type Ids   : {text_preprocessed[\"input_type_ids\"][0, :12]}')"
   ]
  },
  {
   "cell_type": "code",
   "execution_count": 402,
   "metadata": {},
   "outputs": [],
   "source": [
    "#tf.keras.utils.plot_model(model)"
   ]
  },
  {
   "cell_type": "code",
   "execution_count": 420,
   "metadata": {},
   "outputs": [],
   "source": [
    "metrics = [\n",
    "      #macro_f1,\n",
    "      tf.keras.metrics.BinaryAccuracy(name='accuracy'),\n",
    "      #tfa.metrics.F1Score(num_classes= N_LABELS, average= 'macro', threshold=0.5),\n",
    "      tf.keras.metrics.Precision(name='precision'),\n",
    "      tf.keras.metrics.Recall(name='recall')\n",
    "]\n",
    "\n",
    "\n",
    "epochs = 5\n",
    "steps_per_epoch = tf.data.experimental.cardinality(train).numpy()\n",
    "num_train_steps = steps_per_epoch * epochs\n",
    "num_warmup_steps = int(0.1*num_train_steps)\n",
    "\n",
    "init_lr = 3e-5\n",
    "optimizer = optimization.create_optimizer(init_lr=init_lr,\n",
    "                                          num_train_steps=num_train_steps,\n",
    "                                          num_warmup_steps=num_warmup_steps,\n",
    "                                          optimizer_type='adamw')\n",
    "\n",
    "loss = tf.keras.losses.BinaryCrossentropy(from_logits=True)\n",
    "model.compile(optimizer=optimizer,\n",
    "                         loss=loss,\n",
    "                         metrics=metrics)"
   ]
  },
  {
   "cell_type": "code",
   "execution_count": 419,
   "metadata": {},
   "outputs": [
    {
     "name": "stdout",
     "output_type": "stream",
     "text": [
      "Training model with https://tfhub.dev/tensorflow/bert_multi_cased_L-12_H-768_A-12/3\n",
      "Epoch 1/5\n"
     ]
    },
    {
     "name": "stderr",
     "output_type": "stream",
     "text": [
      "2022-06-01 00:42:28.385593: I tensorflow/core/grappler/optimizers/custom_graph_optimizer_registry.cc:113] Plugin optimizer for device_type GPU is enabled.\n"
     ]
    },
    {
     "ename": "NotFoundError",
     "evalue": "Graph execution error:\n\nNo registered 'AddN' OpKernel for 'GPU' devices compatible with node {{node model_1/preprocessing/StatefulPartitionedCall/StatefulPartitionedCall/StatefulPartitionedCall/bert_pack_inputs/PartitionedCall/RaggedConcat/ArithmeticOptimizer/AddOpsRewrite_Leaf_0_add_2}}\n\t (OpKernel was found, but attributes didn't match) Requested Attributes: N=2, T=DT_INT64, _XlaHasReferenceVars=false, _grappler_ArithmeticOptimizer_AddOpsRewriteStage=true, _device=\"/job:localhost/replica:0/task:0/device:GPU:0\"\n\t.  Registered:  device='XLA_CPU_JIT'; T in [DT_FLOAT, DT_DOUBLE, DT_INT32, DT_UINT8, DT_INT16, 16534343205130372495, DT_COMPLEX128, DT_HALF, DT_UINT32, DT_UINT64, DT_VARIANT]\n  device='GPU'; T in [DT_FLOAT]\n  device='DEFAULT'; T in [DT_INT32]\n  device='CPU'; T in [DT_UINT64]\n  device='CPU'; T in [DT_INT64]\n  device='CPU'; T in [DT_UINT32]\n  device='CPU'; T in [DT_UINT16]\n  device='CPU'; T in [DT_INT16]\n  device='CPU'; T in [DT_UINT8]\n  device='CPU'; T in [DT_INT8]\n  device='CPU'; T in [DT_INT32]\n  device='CPU'; T in [DT_HALF]\n  device='CPU'; T in [DT_BFLOAT16]\n  device='CPU'; T in [DT_FLOAT]\n  device='CPU'; T in [DT_DOUBLE]\n  device='CPU'; T in [DT_COMPLEX64]\n  device='CPU'; T in [DT_COMPLEX128]\n  device='CPU'; T in [DT_VARIANT]\n\n\t [[model_1/preprocessing/StatefulPartitionedCall/StatefulPartitionedCall/StatefulPartitionedCall/bert_pack_inputs/PartitionedCall/RaggedConcat/ArithmeticOptimizer/AddOpsRewrite_Leaf_0_add_2]] [Op:__inference_train_function_3373576]",
     "output_type": "error",
     "traceback": [
      "\u001b[0;31m---------------------------------------------------------------------------\u001b[0m",
      "\u001b[0;31mNotFoundError\u001b[0m                             Traceback (most recent call last)",
      "\u001b[1;32m/Users/az/Documents/OpenFoodFacts/off-category-classification/dataforgood_ocr/train.ipynb Cell 32'\u001b[0m in \u001b[0;36m<cell line: 2>\u001b[0;34m()\u001b[0m\n\u001b[1;32m      <a href='vscode-notebook-cell:/Users/az/Documents/OpenFoodFacts/off-category-classification/dataforgood_ocr/train.ipynb#ch0000104?line=0'>1</a>\u001b[0m \u001b[39mprint\u001b[39m(\u001b[39mf\u001b[39m\u001b[39m'\u001b[39m\u001b[39mTraining model with \u001b[39m\u001b[39m{\u001b[39;00mtfhub_handle_encoder\u001b[39m}\u001b[39;00m\u001b[39m'\u001b[39m)\n\u001b[0;32m----> <a href='vscode-notebook-cell:/Users/az/Documents/OpenFoodFacts/off-category-classification/dataforgood_ocr/train.ipynb#ch0000104?line=1'>2</a>\u001b[0m history \u001b[39m=\u001b[39m model\u001b[39m.\u001b[39;49mfit(x\u001b[39m=\u001b[39;49mtrain,\n\u001b[1;32m      <a href='vscode-notebook-cell:/Users/az/Documents/OpenFoodFacts/off-category-classification/dataforgood_ocr/train.ipynb#ch0000104?line=2'>3</a>\u001b[0m                             validation_data\u001b[39m=\u001b[39;49mtest,\n\u001b[1;32m      <a href='vscode-notebook-cell:/Users/az/Documents/OpenFoodFacts/off-category-classification/dataforgood_ocr/train.ipynb#ch0000104?line=3'>4</a>\u001b[0m                             epochs\u001b[39m=\u001b[39;49mepochs)\n",
      "File \u001b[0;32m~/miniforge3/envs/env_tf/lib/python3.9/site-packages/keras/utils/traceback_utils.py:67\u001b[0m, in \u001b[0;36mfilter_traceback.<locals>.error_handler\u001b[0;34m(*args, **kwargs)\u001b[0m\n\u001b[1;32m     <a href='file:///Users/az/miniforge3/envs/env_tf/lib/python3.9/site-packages/keras/utils/traceback_utils.py?line=64'>65</a>\u001b[0m \u001b[39mexcept\u001b[39;00m \u001b[39mException\u001b[39;00m \u001b[39mas\u001b[39;00m e:  \u001b[39m# pylint: disable=broad-except\u001b[39;00m\n\u001b[1;32m     <a href='file:///Users/az/miniforge3/envs/env_tf/lib/python3.9/site-packages/keras/utils/traceback_utils.py?line=65'>66</a>\u001b[0m   filtered_tb \u001b[39m=\u001b[39m _process_traceback_frames(e\u001b[39m.\u001b[39m__traceback__)\n\u001b[0;32m---> <a href='file:///Users/az/miniforge3/envs/env_tf/lib/python3.9/site-packages/keras/utils/traceback_utils.py?line=66'>67</a>\u001b[0m   \u001b[39mraise\u001b[39;00m e\u001b[39m.\u001b[39mwith_traceback(filtered_tb) \u001b[39mfrom\u001b[39;00m \u001b[39mNone\u001b[39m\n\u001b[1;32m     <a href='file:///Users/az/miniforge3/envs/env_tf/lib/python3.9/site-packages/keras/utils/traceback_utils.py?line=67'>68</a>\u001b[0m \u001b[39mfinally\u001b[39;00m:\n\u001b[1;32m     <a href='file:///Users/az/miniforge3/envs/env_tf/lib/python3.9/site-packages/keras/utils/traceback_utils.py?line=68'>69</a>\u001b[0m   \u001b[39mdel\u001b[39;00m filtered_tb\n",
      "File \u001b[0;32m~/miniforge3/envs/env_tf/lib/python3.9/site-packages/tensorflow/python/eager/execute.py:54\u001b[0m, in \u001b[0;36mquick_execute\u001b[0;34m(op_name, num_outputs, inputs, attrs, ctx, name)\u001b[0m\n\u001b[1;32m     <a href='file:///Users/az/miniforge3/envs/env_tf/lib/python3.9/site-packages/tensorflow/python/eager/execute.py?line=51'>52</a>\u001b[0m \u001b[39mtry\u001b[39;00m:\n\u001b[1;32m     <a href='file:///Users/az/miniforge3/envs/env_tf/lib/python3.9/site-packages/tensorflow/python/eager/execute.py?line=52'>53</a>\u001b[0m   ctx\u001b[39m.\u001b[39mensure_initialized()\n\u001b[0;32m---> <a href='file:///Users/az/miniforge3/envs/env_tf/lib/python3.9/site-packages/tensorflow/python/eager/execute.py?line=53'>54</a>\u001b[0m   tensors \u001b[39m=\u001b[39m pywrap_tfe\u001b[39m.\u001b[39mTFE_Py_Execute(ctx\u001b[39m.\u001b[39m_handle, device_name, op_name,\n\u001b[1;32m     <a href='file:///Users/az/miniforge3/envs/env_tf/lib/python3.9/site-packages/tensorflow/python/eager/execute.py?line=54'>55</a>\u001b[0m                                       inputs, attrs, num_outputs)\n\u001b[1;32m     <a href='file:///Users/az/miniforge3/envs/env_tf/lib/python3.9/site-packages/tensorflow/python/eager/execute.py?line=55'>56</a>\u001b[0m \u001b[39mexcept\u001b[39;00m core\u001b[39m.\u001b[39m_NotOkStatusException \u001b[39mas\u001b[39;00m e:\n\u001b[1;32m     <a href='file:///Users/az/miniforge3/envs/env_tf/lib/python3.9/site-packages/tensorflow/python/eager/execute.py?line=56'>57</a>\u001b[0m   \u001b[39mif\u001b[39;00m name \u001b[39mis\u001b[39;00m \u001b[39mnot\u001b[39;00m \u001b[39mNone\u001b[39;00m:\n",
      "\u001b[0;31mNotFoundError\u001b[0m: Graph execution error:\n\nNo registered 'AddN' OpKernel for 'GPU' devices compatible with node {{node model_1/preprocessing/StatefulPartitionedCall/StatefulPartitionedCall/StatefulPartitionedCall/bert_pack_inputs/PartitionedCall/RaggedConcat/ArithmeticOptimizer/AddOpsRewrite_Leaf_0_add_2}}\n\t (OpKernel was found, but attributes didn't match) Requested Attributes: N=2, T=DT_INT64, _XlaHasReferenceVars=false, _grappler_ArithmeticOptimizer_AddOpsRewriteStage=true, _device=\"/job:localhost/replica:0/task:0/device:GPU:0\"\n\t.  Registered:  device='XLA_CPU_JIT'; T in [DT_FLOAT, DT_DOUBLE, DT_INT32, DT_UINT8, DT_INT16, 16534343205130372495, DT_COMPLEX128, DT_HALF, DT_UINT32, DT_UINT64, DT_VARIANT]\n  device='GPU'; T in [DT_FLOAT]\n  device='DEFAULT'; T in [DT_INT32]\n  device='CPU'; T in [DT_UINT64]\n  device='CPU'; T in [DT_INT64]\n  device='CPU'; T in [DT_UINT32]\n  device='CPU'; T in [DT_UINT16]\n  device='CPU'; T in [DT_INT16]\n  device='CPU'; T in [DT_UINT8]\n  device='CPU'; T in [DT_INT8]\n  device='CPU'; T in [DT_INT32]\n  device='CPU'; T in [DT_HALF]\n  device='CPU'; T in [DT_BFLOAT16]\n  device='CPU'; T in [DT_FLOAT]\n  device='CPU'; T in [DT_DOUBLE]\n  device='CPU'; T in [DT_COMPLEX64]\n  device='CPU'; T in [DT_COMPLEX128]\n  device='CPU'; T in [DT_VARIANT]\n\n\t [[model_1/preprocessing/StatefulPartitionedCall/StatefulPartitionedCall/StatefulPartitionedCall/bert_pack_inputs/PartitionedCall/RaggedConcat/ArithmeticOptimizer/AddOpsRewrite_Leaf_0_add_2]] [Op:__inference_train_function_3373576]"
     ]
    }
   ],
   "source": [
    "print(f'Training model with {tfhub_handle_encoder}')\n",
    "history = model.fit(x=train,\n",
    "                            validation_data=test,\n",
    "                            epochs=epochs)"
   ]
  },
  {
   "cell_type": "code",
   "execution_count": 117,
   "metadata": {},
   "outputs": [
    {
     "data": {
      "text/plain": [
       "<AxesSubplot:>"
      ]
     },
     "execution_count": 117,
     "metadata": {},
     "output_type": "execute_result"
    },
    {
     "data": {
      "image/png": "[encoded data removed]",
      "text/plain": [
       "<Figure size 432x288 with 2 Axes>"
      ]
     },
     "metadata": {
      "needs_background": "light"
     },
     "output_type": "display_data"
    }
   ],
   "source": [
    "import seaborn as sns\n",
    "from sklearn.metrics import confusion_matrix\n",
    "cm = confusion_matrix(y, y_pred)\n",
    "sns.heatmap(cm, annot = True, fmt = \".0f\")"
   ]
  },
  {
   "cell_type": "code",
   "execution_count": 115,
   "metadata": {},
   "outputs": [
    {
     "data": {
      "text/html": [
       "<div>\n",
       "<style scoped>\n",
       "    .dataframe tbody tr th:only-of-type {\n",
       "        vertical-align: middle;\n",
       "    }\n",
       "\n",
       "    .dataframe tbody tr th {\n",
       "        vertical-align: top;\n",
       "    }\n",
       "\n",
       "    .dataframe thead th {\n",
       "        text-align: right;\n",
       "    }\n",
       "</style>\n",
       "<table border=\"1\" class=\"dataframe\">\n",
       "  <thead>\n",
       "    <tr style=\"text-align: right;\">\n",
       "      <th></th>\n",
       "      <th>code</th>\n",
       "      <th>word_selection</th>\n",
       "      <th>categories_tags</th>\n",
       "    </tr>\n",
       "  </thead>\n",
       "  <tbody>\n",
       "    <tr>\n",
       "      <th>55</th>\n",
       "      <td>0021130153503</td>\n",
       "      <td>TO OPEN YEAH Aekoss BERFORATION SAFEWAY farms ...</td>\n",
       "      <td>[en:meats, en:prepared-meats, en:hams, en:pork]</td>\n",
       "    </tr>\n",
       "    <tr>\n",
       "      <th>145</th>\n",
       "      <td>0021357020138</td>\n",
       "      <td>Our Signature BEEF HICKORY SAUSAGE FARMS NATUR...</td>\n",
       "      <td>[en:meats, en:prepared-meats, en:beef, en:saus...</td>\n",
       "    </tr>\n",
       "    <tr>\n",
       "      <th>146</th>\n",
       "      <td>0021357913447</td>\n",
       "      <td>HICKORY FARMS EST Farmuhoase Recipe SUMMER Har...</td>\n",
       "      <td>[en:meats, en:prepared-meats, en:beef, en:saus...</td>\n",
       "    </tr>\n",
       "    <tr>\n",
       "      <th>273</th>\n",
       "      <td>0022655306313</td>\n",
       "      <td>ll natural NEW LOOK AME GREAT ASTE BUTTERBALL ...</td>\n",
       "      <td>[en:meats, en:prepared-meats, en:sausages, en:...</td>\n",
       "    </tr>\n",
       "    <tr>\n",
       "      <th>274</th>\n",
       "      <td>0022655702054</td>\n",
       "      <td>natural all GROUND TURKEY BUTTERBALL LEAN FRES...</td>\n",
       "      <td>[en:meats, en:poultries]</td>\n",
       "    </tr>\n",
       "    <tr>\n",
       "      <th>...</th>\n",
       "      <td>...</td>\n",
       "      <td>...</td>\n",
       "      <td>...</td>\n",
       "    </tr>\n",
       "    <tr>\n",
       "      <th>596277</th>\n",
       "      <td>5054781854739</td>\n",
       "      <td>. refrigerated in by and recycling both use st...</td>\n",
       "      <td>[en:meats, en:beef, en:beef-steaks]</td>\n",
       "    </tr>\n",
       "    <tr>\n",
       "      <th>596322</th>\n",
       "      <td>7037203626679</td>\n",
       "      <td>. leverpostei uten ovnsbakt bacon melk. . Ovns...</td>\n",
       "      <td>[en:meats, en:pork, en:pork-liver]</td>\n",
       "    </tr>\n",
       "    <tr>\n",
       "      <th>596346</th>\n",
       "      <td>3569380727305</td>\n",
       "      <td>. . . TERRINE CANARD AU MAGRET CANARD FUME VIA...</td>\n",
       "      <td>[en:meats, en:prepared-meats, en:meat-based-pr...</td>\n",
       "    </tr>\n",
       "    <tr>\n",
       "      <th>596347</th>\n",
       "      <td>2487374021844</td>\n",
       "      <td>. . au. Suggestion présentation Halt Molenporc...</td>\n",
       "      <td>[en:meats, en:poultries, en:chickens, en:chick...</td>\n",
       "    </tr>\n",
       "    <tr>\n",
       "      <th>596348</th>\n",
       "      <td>3449865367250</td>\n",
       "      <td>. . . Aoste VIANDE DES GRISONS</td>\n",
       "      <td>[en:meats, en:beef, en:meat-preparations, en:b...</td>\n",
       "    </tr>\n",
       "  </tbody>\n",
       "</table>\n",
       "<p>24783 rows × 3 columns</p>\n",
       "</div>"
      ],
      "text/plain": [
       "                 code                                     word_selection  \\\n",
       "55      0021130153503  TO OPEN YEAH Aekoss BERFORATION SAFEWAY farms ...   \n",
       "145     0021357020138  Our Signature BEEF HICKORY SAUSAGE FARMS NATUR...   \n",
       "146     0021357913447  HICKORY FARMS EST Farmuhoase Recipe SUMMER Har...   \n",
       "273     0022655306313  ll natural NEW LOOK AME GREAT ASTE BUTTERBALL ...   \n",
       "274     0022655702054  natural all GROUND TURKEY BUTTERBALL LEAN FRES...   \n",
       "...               ...                                                ...   \n",
       "596277  5054781854739  . refrigerated in by and recycling both use st...   \n",
       "596322  7037203626679  . leverpostei uten ovnsbakt bacon melk. . Ovns...   \n",
       "596346  3569380727305  . . . TERRINE CANARD AU MAGRET CANARD FUME VIA...   \n",
       "596347  2487374021844  . . au. Suggestion présentation Halt Molenporc...   \n",
       "596348  3449865367250                     . . . Aoste VIANDE DES GRISONS   \n",
       "\n",
       "                                          categories_tags  \n",
       "55        [en:meats, en:prepared-meats, en:hams, en:pork]  \n",
       "145     [en:meats, en:prepared-meats, en:beef, en:saus...  \n",
       "146     [en:meats, en:prepared-meats, en:beef, en:saus...  \n",
       "273     [en:meats, en:prepared-meats, en:sausages, en:...  \n",
       "274                              [en:meats, en:poultries]  \n",
       "...                                                   ...  \n",
       "596277                [en:meats, en:beef, en:beef-steaks]  \n",
       "596322                 [en:meats, en:pork, en:pork-liver]  \n",
       "596346  [en:meats, en:prepared-meats, en:meat-based-pr...  \n",
       "596347  [en:meats, en:poultries, en:chickens, en:chick...  \n",
       "596348  [en:meats, en:beef, en:meat-preparations, en:b...  \n",
       "\n",
       "[24783 rows x 3 columns]"
      ]
     },
     "execution_count": 115,
     "metadata": {},
     "output_type": "execute_result"
    }
   ],
   "source": [
    "y_pred_1 = y_pred == 1\n",
    "y_true_0 = y == 1\n",
    "\n",
    "dataset.iloc[(y_pred_1 & y_true_0)]"
   ]
  },
  {
   "cell_type": "code",
   "execution_count": 65,
   "metadata": {},
   "outputs": [
    {
     "data": {
      "text/plain": [
       "87818      1\n",
       "337272     1\n",
       "337271     1\n",
       "38787      1\n",
       "337270     1\n",
       "          ..\n",
       "449258    32\n",
       "433319    33\n",
       "547188    40\n",
       "455505    41\n",
       "203090    43\n",
       "Name: categories_tags, Length: 596366, dtype: int64"
      ]
     },
     "execution_count": 65,
     "metadata": {},
     "output_type": "execute_result"
    }
   ],
   "source": [
    "dataset[\"categories_tags\"].str.len().sort_values()"
   ]
  },
  {
   "cell_type": "code",
   "execution_count": 68,
   "metadata": {},
   "outputs": [],
   "source": [
    "categories = dataset[\"categories_tags\"][0]"
   ]
  },
  {
   "cell_type": "code",
   "execution_count": 71,
   "metadata": {},
   "outputs": [
    {
     "data": {
      "text/plain": [
       "True"
      ]
     },
     "execution_count": 71,
     "metadata": {},
     "output_type": "execute_result"
    }
   ],
   "source": [
    "set.intersection(set(categories), set(categories)) == set(categories)"
   ]
  },
  {
   "cell_type": "code",
   "execution_count": 72,
   "metadata": {},
   "outputs": [
    {
     "data": {
      "text/plain": [
       "'0021065000071'"
      ]
     },
     "execution_count": 72,
     "metadata": {},
     "output_type": "execute_result"
    }
   ],
   "source": [
    "dataset[\"code\"][0]"
   ]
  },
  {
   "cell_type": "code",
   "execution_count": 409,
   "metadata": {},
   "outputs": [
    {
     "name": "stderr",
     "output_type": "stream",
     "text": [
      "100%|██████████| 572141/572141 [00:07<00:00, 72755.24it/s] \n"
     ]
    }
   ],
   "source": [
    "## keep only normalized categories\n",
    "from tqdm import tqdm\n",
    "import urllib.request, json \n",
    "with urllib.request.urlopen(\"https://static.openfoodfacts.org/data/taxonomies/categories.json\") as url:\n",
    "    normalized_categories_dict = json.loads(url.read().decode())\n",
    "\n",
    "def get_normalizerd_categories_and_frequent_ones(category_list, normalized_categories_dict, categories_with_more_than_n_occurences):\n",
    "  category_selection = []\n",
    "  for list_ in tqdm(category_list):\n",
    "    categories_normalized = [\n",
    "                             category for category in list_ if (\n",
    "                                 category in normalized_categories_dict \n",
    "                                 and category in categories_with_more_than_n_occurences\n",
    "                                 )]\n",
    "    category_selection.append(categories_normalized)\n",
    "  return category_selection\n",
    "\n",
    "def get_freq_dict(category_list):\n",
    "  cat_dict = {}\n",
    "  for list_ in category_list:\n",
    "    if isinstance(list_, str):\n",
    "      list_ = eval(list_)\n",
    "    for category in list_:\n",
    "      if category in cat_dict:\n",
    "        cat_dict[category] += 1\n",
    "      else:\n",
    "        cat_dict[category] = 1\n",
    "  return cat_dict\n",
    "\n",
    "def get_categories_with_more_than_n_occurencs(category_list, freq_dict, n_freq = 49):\n",
    "  categories_with_more_than_n_occurences = [cat for (cat, freq) in freq_dict.items() if freq > n_freq]\n",
    "  return categories_with_more_than_n_occurences\n",
    "\n",
    "freq_dict = get_freq_dict(dataset[\"categories_tags\"])\n",
    "frequent_categories = get_categories_with_more_than_n_occurencs(dataset[\"categories_tags\"], freq_dict, n_freq = 49)\n",
    "category_normalized = get_normalizerd_categories_and_frequent_ones(dataset[\"categories_tags\"], normalized_categories_dict, frequent_categories)\n",
    "dataset[\"category_normalized\"] = category_normalized\n",
    "filter = dataset[\"category_normalized\"].str.len() != 0\n",
    "dataset = dataset.loc[filter, :].copy()"
   ]
  },
  {
   "cell_type": "code",
   "execution_count": 201,
   "metadata": {},
   "outputs": [],
   "source": [
    "from sklearn.preprocessing import MultiLabelBinarizer\n",
    "mlb = MultiLabelBinarizer(sparse_output = True)\n",
    "\n",
    "y_labels_matrix =  mlb.fit_transform(dataset[\"category_normalized\"])"
   ]
  },
  {
   "cell_type": "code",
   "execution_count": 189,
   "metadata": {},
   "outputs": [
    {
     "data": {
      "text/html": [
       "<div>\n",
       "<style scoped>\n",
       "    .dataframe tbody tr th:only-of-type {\n",
       "        vertical-align: middle;\n",
       "    }\n",
       "\n",
       "    .dataframe tbody tr th {\n",
       "        vertical-align: top;\n",
       "    }\n",
       "\n",
       "    .dataframe thead th {\n",
       "        text-align: right;\n",
       "    }\n",
       "</style>\n",
       "<table border=\"1\" class=\"dataframe\">\n",
       "  <thead>\n",
       "    <tr style=\"text-align: right;\">\n",
       "      <th></th>\n",
       "      <th>code</th>\n",
       "      <th>word_selection</th>\n",
       "      <th>categories_tags</th>\n",
       "      <th>category_normalized</th>\n",
       "    </tr>\n",
       "  </thead>\n",
       "  <tbody>\n",
       "    <tr>\n",
       "      <th>0</th>\n",
       "      <td>0021065000071</td>\n",
       "      <td>Facts Calories Nutrition servings container Se...</td>\n",
       "      <td>[en:groceries, en:sauces]</td>\n",
       "      <td>[en:sauces]</td>\n",
       "    </tr>\n",
       "    <tr>\n",
       "      <th>1</th>\n",
       "      <td>0021065000101</td>\n",
       "      <td>Steves Eds ORIGINAL Louisiana Hot Sauce. . . ...</td>\n",
       "      <td>[en:groceries, en:sauces, en:hot-sauces]</td>\n",
       "      <td>[en:sauces, en:hot-sauces]</td>\n",
       "    </tr>\n",
       "    <tr>\n",
       "      <th>2</th>\n",
       "      <td>0021078019091</td>\n",
       "      <td>SOURCE NATURALS DIETARY SUPPLEMENT TRUE WHEY T...</td>\n",
       "      <td>[en:dietary-supplements, en:bodybuilding-suppl...</td>\n",
       "      <td>[en:dietary-supplements, en:bodybuilding-suppl...</td>\n",
       "    </tr>\n",
       "    <tr>\n",
       "      <th>3</th>\n",
       "      <td>0021110336001</td>\n",
       "      <td>Whole Sighature MAD White Potatoes SEA kitchen...</td>\n",
       "      <td>[en:plant-based-foods-and-beverages, en:plant-...</td>\n",
       "      <td>[en:plant-based-foods-and-beverages, en:plant-...</td>\n",
       "    </tr>\n",
       "    <tr>\n",
       "      <th>4</th>\n",
       "      <td>0021130008124</td>\n",
       "      <td>DISTRIBUTED BY Nutrition Facts SAFEWAY INC PO ...</td>\n",
       "      <td>[en:groceries, en:sauces, en:tomato-sauces, en...</td>\n",
       "      <td>[en:sauces, en:tomato-sauces, en:ketchup]</td>\n",
       "    </tr>\n",
       "  </tbody>\n",
       "</table>\n",
       "</div>"
      ],
      "text/plain": [
       "            code                                     word_selection  \\\n",
       "0  0021065000071  Facts Calories Nutrition servings container Se...   \n",
       "1  0021065000101   Steves Eds ORIGINAL Louisiana Hot Sauce. . . ...   \n",
       "2  0021078019091  SOURCE NATURALS DIETARY SUPPLEMENT TRUE WHEY T...   \n",
       "3  0021110336001  Whole Sighature MAD White Potatoes SEA kitchen...   \n",
       "4  0021130008124  DISTRIBUTED BY Nutrition Facts SAFEWAY INC PO ...   \n",
       "\n",
       "                                     categories_tags  \\\n",
       "0                          [en:groceries, en:sauces]   \n",
       "1           [en:groceries, en:sauces, en:hot-sauces]   \n",
       "2  [en:dietary-supplements, en:bodybuilding-suppl...   \n",
       "3  [en:plant-based-foods-and-beverages, en:plant-...   \n",
       "4  [en:groceries, en:sauces, en:tomato-sauces, en...   \n",
       "\n",
       "                                 category_normalized  \n",
       "0                                        [en:sauces]  \n",
       "1                         [en:sauces, en:hot-sauces]  \n",
       "2  [en:dietary-supplements, en:bodybuilding-suppl...  \n",
       "3  [en:plant-based-foods-and-beverages, en:plant-...  \n",
       "4          [en:sauces, en:tomato-sauces, en:ketchup]  "
      ]
     },
     "execution_count": 189,
     "metadata": {},
     "output_type": "execute_result"
    }
   ],
   "source": [
    "dataset.head()"
   ]
  },
  {
   "cell_type": "code",
   "execution_count": 276,
   "metadata": {},
   "outputs": [
    {
     "data": {
      "text/html": [
       "<div>\n",
       "<style scoped>\n",
       "    .dataframe tbody tr th:only-of-type {\n",
       "        vertical-align: middle;\n",
       "    }\n",
       "\n",
       "    .dataframe tbody tr th {\n",
       "        vertical-align: top;\n",
       "    }\n",
       "\n",
       "    .dataframe thead th {\n",
       "        text-align: right;\n",
       "    }\n",
       "</style>\n",
       "<table border=\"1\" class=\"dataframe\">\n",
       "  <thead>\n",
       "    <tr style=\"text-align: right;\">\n",
       "      <th></th>\n",
       "      <th>code</th>\n",
       "      <th>word_selection</th>\n",
       "      <th>categories_tags</th>\n",
       "      <th>category_normalized</th>\n",
       "    </tr>\n",
       "  </thead>\n",
       "  <tbody>\n",
       "    <tr>\n",
       "      <th>0</th>\n",
       "      <td>0021065000071</td>\n",
       "      <td>Facts Calories Nutrition servings container Se...</td>\n",
       "      <td>[en:groceries, en:sauces]</td>\n",
       "      <td>[en:sauces]</td>\n",
       "    </tr>\n",
       "    <tr>\n",
       "      <th>1</th>\n",
       "      <td>0021065000101</td>\n",
       "      <td>Steves Eds ORIGINAL Louisiana Hot Sauce. . . ...</td>\n",
       "      <td>[en:groceries, en:sauces, en:hot-sauces]</td>\n",
       "      <td>[en:sauces, en:hot-sauces]</td>\n",
       "    </tr>\n",
       "  </tbody>\n",
       "</table>\n",
       "</div>"
      ],
      "text/plain": [
       "            code                                     word_selection  \\\n",
       "0  0021065000071  Facts Calories Nutrition servings container Se...   \n",
       "1  0021065000101   Steves Eds ORIGINAL Louisiana Hot Sauce. . . ...   \n",
       "\n",
       "                            categories_tags         category_normalized  \n",
       "0                 [en:groceries, en:sauces]                 [en:sauces]  \n",
       "1  [en:groceries, en:sauces, en:hot-sauces]  [en:sauces, en:hot-sauces]  "
      ]
     },
     "execution_count": 276,
     "metadata": {},
     "output_type": "execute_result"
    }
   ],
   "source": [
    "dataset.head(2)"
   ]
  }
 ],
 "metadata": {
  "interpreter": {
   "hash": "7ba1f239449f425eb3a38518ae99d1f767aed482cc07821544aaa5748f4ec966"
  },
  "kernelspec": {
   "display_name": "Python 3.9.12 ('env_tf')",
   "language": "python",
   "name": "python3"
  },
  "language_info": {
   "codemirror_mode": {
    "name": "ipython",
    "version": 3
   },
   "file_extension": ".py",
   "mimetype": "text/x-python",
   "name": "python",
   "nbconvert_exporter": "python",
   "pygments_lexer": "ipython3",
   "version": "3.9.12"
  },
  "orig_nbformat": 4
 },
 "nbformat": 4,
 "nbformat_minor": 2
}
